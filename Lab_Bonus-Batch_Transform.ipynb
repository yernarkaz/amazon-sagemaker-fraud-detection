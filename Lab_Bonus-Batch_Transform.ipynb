{
 "cells": [
  {
   "cell_type": "markdown",
   "metadata": {},
   "source": [
    "## Bonus Lab: Batch Transform for on-demand inference\n",
    "\n",
    "This section provides an introduction to the Amazon SageMaker Batch Transform functionality, which are good for the following scenarios:\n",
    "- On-demand model evaluations: if you want to run one time model evaluations. For example, to compare accuracy of our trained model on new validation data that we collected after our initial training job.\n",
    "- Transitional model output: we may want to use outputs from one model as the inputs to another. For example, we may want use a pre-processing step like word embeddings, principal components, clustering, or TF-IDF, before training a second model to generate predictions from that information.\n",
    "- Periodic inference: in some cases, the inference is scheduled to run periodically at a certain time (e.g., nightly batch inference). In this case, running inference via Batch Transform will save cost as compared to hosting an SageMaker inference endpoint, which runs 24/7.\n",
    "\n",
    "Functionally, batch transform uses the same mechanics as real-time hosting to generate predictions. It requires a web server that takes in HTTP POST requests a single observation, or mini-batch, at a time. However, unlike real-time hosted endpoints which have persistent hardware (instances stay running until you shut them down), batch transform clusters are torn down when the job completes."
   ]
  },
  {
   "cell_type": "markdown",
   "metadata": {},
   "source": [
    "## Instructions"
   ]
  },
  {
   "cell_type": "markdown",
   "metadata": {},
   "source": [
    "This is a continuation of Lab 4 after the model was created. You will need to update the model name in this notebook. If you don't have a model created, please review Lab 4 (Model deployment), Section \"Create model\""
   ]
  },
  {
   "cell_type": "code",
   "execution_count": 1,
   "metadata": {},
   "outputs": [],
   "source": [
    "# cell 1\n",
    "\n",
    "import boto3\n",
    "import sagemaker\n",
    "import pandas as pd\n",
    "import re\n",
    "\n",
    "from time import gmtime, strftime"
   ]
  },
  {
   "cell_type": "code",
   "execution_count": 4,
   "metadata": {},
   "outputs": [
    {
     "name": "stdout",
     "output_type": "stream",
     "text": [
      "Using AWS Region: eu-central-1\n"
     ]
    },
    {
     "name": "stderr",
     "output_type": "stream",
     "text": [
      "Couldn't call 'get_role' to get Role ARN from role name yernar to get Role path.\n"
     ]
    },
    {
     "name": "stdout",
     "output_type": "stream",
     "text": [
      "\n",
      " instantiating sagemaker_role with supplied role name : arn:aws:iam::376129848145:role/fraud-detection-stack-SageMakerExecutionRole-7DtN1ypnuRSE\n"
     ]
    }
   ],
   "source": [
    "# cell 2\n",
    "\n",
    "# Set Region\n",
    "region = sagemaker.Session().boto_region_name\n",
    "print(\"Using AWS Region: {}\".format(region))\n",
    "\n",
    "boto3.setup_default_session(region_name=region)\n",
    "boto_session = boto3.Session(region_name=region)\n",
    "s3_client = boto3.client(\"s3\", region_name=region)\n",
    "\n",
    "# Get SageMaker client, role and session\n",
    "sagemaker_boto_client = boto_session.client(\"sagemaker\")\n",
    "\n",
    "sagemaker_execution_role_name = \"fraud-detection-stack-SageMakerExecutionRole-7DtN1ypnuRSE\"\n",
    "\n",
    "try:\n",
    "    sagemaker_role = sagemaker.get_execution_role()\n",
    "except ValueError:\n",
    "    iam = boto3.client(\"iam\")\n",
    "    sagemaker_role = iam.get_role(RoleName=sagemaker_execution_role_name)[\"Role\"][\"Arn\"]\n",
    "    print(f\"\\n instantiating sagemaker_role with supplied role name : {sagemaker_role}\")\n",
    "\n",
    "sagemaker_session = sagemaker.session.Session(\n",
    "    boto_session=boto_session, sagemaker_client=sagemaker_boto_client\n",
    ")"
   ]
  },
  {
   "cell_type": "markdown",
   "metadata": {},
   "source": [
    "Set parameterized variables:\n",
    "* bucket - S3 Bucket name. You can adjust the code to use a bucket of your choice.\n",
    "* prefix - String which will be used to identify different resources.\n",
    "* model name - String which will be used to identify the model."
   ]
  },
  {
   "cell_type": "code",
   "execution_count": 16,
   "metadata": {},
   "outputs": [
    {
     "name": "stdout",
     "output_type": "stream",
     "text": [
      "fraud-detect-demo-2025-03-14-13-20-10\n"
     ]
    }
   ],
   "source": [
    "response = sagemaker_boto_client.list_models()\n",
    "for model in response[\"Models\"]:\n",
    "    print(model[\"ModelName\"])"
   ]
  },
  {
   "cell_type": "code",
   "execution_count": 17,
   "metadata": {},
   "outputs": [
    {
     "name": "stdout",
     "output_type": "stream",
     "text": [
      "Model name : fraud-detect-demo-2025-03-14-13-20-10\n"
     ]
    }
   ],
   "source": [
    "# cell 3\n",
    "\n",
    "# Bucket \n",
    "bucket = sagemaker_session.default_bucket()\n",
    "prefix = \"fraud-detect-demo\"\n",
    "model_name = \"fraud-detect-demo-2025-03-14-13-20-10\"\n",
    "print(\"Model name : {}\".format(model_name))"
   ]
  },
  {
   "cell_type": "markdown",
   "metadata": {},
   "source": [
    "#### Prepare data input for Batch Transform job\n",
    "We will prepare batch data input by removing the predicted value column and other columns, the index, and header row from raw test data"
   ]
  },
  {
   "cell_type": "code",
   "execution_count": 18,
   "metadata": {},
   "outputs": [],
   "source": [
    "# cell 4\n",
    "\n",
    "dataset = pd.read_csv(\"./data/claims_customer.csv\")\n",
    "batchinput = dataset.drop([\"fraud\", \"Unnamed: 0\", \"policy_id\"], axis=1)\n",
    "batchinput.head()\n",
    "\n",
    "# Save back to CSV without index and header (pre-requisites for Batch Transform job data input)\n",
    "batchinput.to_csv(\"data/batchinput.csv\", index=False, header=False)\n",
    "\n",
    "# Upload to S3 bucket\n",
    "s3_client.upload_file(Filename=\"data/batchinput.csv\", Bucket=bucket, Key=f\"{prefix}/batch_transform/input/batchinput.csv\")"
   ]
  },
  {
   "cell_type": "markdown",
   "metadata": {},
   "source": [
    "#### Create and run Batch Transform job"
   ]
  },
  {
   "cell_type": "code",
   "execution_count": 19,
   "metadata": {},
   "outputs": [
    {
     "name": "stdout",
     "output_type": "stream",
     "text": [
      "Created Transform job with name:  fraud-detect-demo-2025-03-17-06-26-07\n",
      "Transform job ended with status: Completed\n",
      "CPU times: user 124 ms, sys: 40.5 ms, total: 165 ms\n",
      "Wall time: 6min 7s\n"
     ]
    }
   ],
   "source": [
    "%%time\n",
    "\n",
    "# cell 5\n",
    "\n",
    "# Batch Transform to evaluate trained model with test data\n",
    "batch_job_name = f\"{prefix}-\" + strftime(\"%Y-%m-%d-%H-%M-%S\", gmtime())  # use input data without ID column\n",
    "batch_input = f\"s3://{bucket}/{prefix}/batch_transform/input/batchinput.csv\"\n",
    "batch_output = \"s3://{}/{}/batch_transform/output/{}\".format(bucket, prefix, batch_job_name)\n",
    "\n",
    "request = {\n",
    "    \"TransformJobName\": batch_job_name,\n",
    "    \"ModelName\": model_name,\n",
    "    \"MaxConcurrentTransforms\": 6,\n",
    "    \"BatchStrategy\": \"MultiRecord\",\n",
    "    \"TransformOutput\": {\n",
    "        \"S3OutputPath\": batch_output,\n",
    "        \"Accept\": \"text/csv\",\n",
    "        \"AssembleWith\": \"Line\",\n",
    "    },\n",
    "    \"TransformInput\": {\n",
    "        \"DataSource\": {\"S3DataSource\": {\"S3DataType\": \"S3Prefix\", \"S3Uri\": batch_input}},\n",
    "        \"ContentType\": \"text/csv\",\n",
    "        \"SplitType\": \"Line\",\n",
    "        \"CompressionType\": \"None\",\n",
    "    },\n",
    "    \"TransformResources\": {\"InstanceType\": \"ml.m4.xlarge\", \"InstanceCount\": 1},\n",
    "}\n",
    "\n",
    "response = sagemaker_boto_client.create_transform_job(**request)\n",
    "print(\"Created Transform job with name: \", batch_job_name)\n",
    "\n",
    "# Wait until the job finishes\n",
    "try:\n",
    "    sagemaker_boto_client.get_waiter(\"transform_job_completed_or_stopped\").wait(TransformJobName=batch_job_name)\n",
    "finally:\n",
    "    response = sagemaker_boto_client.describe_transform_job(TransformJobName=batch_job_name)\n",
    "    status = response[\"TransformJobStatus\"]\n",
    "    print(\"Transform job ended with status: \" + status)\n",
    "    if status == \"Failed\":\n",
    "        message = response[\"FailureReason\"]\n",
    "        print(\"Transform failed with the following error: {}\".format(message))\n",
    "        raise Exception(\"Transform job failed\")"
   ]
  },
  {
   "cell_type": "markdown",
   "metadata": {},
   "source": [
    "#### Reading the prediction results from Batch Transform job"
   ]
  },
  {
   "cell_type": "markdown",
   "metadata": {},
   "source": [
    "The Batch Transform job outputs the batch prediction results in the S3 location defined in 'batch_output'. We will merge the prediction column with the original sample input dataset."
   ]
  },
  {
   "cell_type": "code",
   "execution_count": 20,
   "metadata": {},
   "outputs": [
    {
     "data": {
      "text/html": [
       "<div>\n",
       "<style scoped>\n",
       "    .dataframe tbody tr th:only-of-type {\n",
       "        vertical-align: middle;\n",
       "    }\n",
       "\n",
       "    .dataframe tbody tr th {\n",
       "        vertical-align: top;\n",
       "    }\n",
       "\n",
       "    .dataframe thead th {\n",
       "        text-align: right;\n",
       "    }\n",
       "</style>\n",
       "<table border=\"1\" class=\"dataframe\">\n",
       "  <thead>\n",
       "    <tr style=\"text-align: right;\">\n",
       "      <th></th>\n",
       "      <th>prediction</th>\n",
       "      <th>policy_id</th>\n",
       "      <th>auto_year</th>\n",
       "      <th>num_insurers_past_5_years</th>\n",
       "      <th>policy_state_or</th>\n",
       "      <th>collision_type_side</th>\n",
       "      <th>num_witnesses</th>\n",
       "      <th>collision_type_na</th>\n",
       "      <th>total_claim_amount</th>\n",
       "      <th>driver_relationship_self</th>\n",
       "      <th>...</th>\n",
       "      <th>customer_gender_female</th>\n",
       "      <th>incident_hour</th>\n",
       "      <th>authorities_contacted_police</th>\n",
       "      <th>authorities_contacted_none</th>\n",
       "      <th>collision_type_rear</th>\n",
       "      <th>authorities_contacted_fire</th>\n",
       "      <th>policy_state_nv</th>\n",
       "      <th>customer_age</th>\n",
       "      <th>customer_education</th>\n",
       "      <th>driver_relationship_other</th>\n",
       "    </tr>\n",
       "  </thead>\n",
       "  <tbody>\n",
       "    <tr>\n",
       "      <th>0</th>\n",
       "      <td>0</td>\n",
       "      <td>1684</td>\n",
       "      <td>2014</td>\n",
       "      <td>2</td>\n",
       "      <td>0</td>\n",
       "      <td>0</td>\n",
       "      <td>2</td>\n",
       "      <td>0</td>\n",
       "      <td>7500.0</td>\n",
       "      <td>1</td>\n",
       "      <td>...</td>\n",
       "      <td>1</td>\n",
       "      <td>9</td>\n",
       "      <td>0</td>\n",
       "      <td>1</td>\n",
       "      <td>1</td>\n",
       "      <td>0</td>\n",
       "      <td>0</td>\n",
       "      <td>31</td>\n",
       "      <td>4</td>\n",
       "      <td>0</td>\n",
       "    </tr>\n",
       "    <tr>\n",
       "      <th>1</th>\n",
       "      <td>0</td>\n",
       "      <td>1744</td>\n",
       "      <td>2013</td>\n",
       "      <td>1</td>\n",
       "      <td>0</td>\n",
       "      <td>0</td>\n",
       "      <td>0</td>\n",
       "      <td>0</td>\n",
       "      <td>10500.0</td>\n",
       "      <td>1</td>\n",
       "      <td>...</td>\n",
       "      <td>1</td>\n",
       "      <td>9</td>\n",
       "      <td>1</td>\n",
       "      <td>0</td>\n",
       "      <td>0</td>\n",
       "      <td>0</td>\n",
       "      <td>0</td>\n",
       "      <td>47</td>\n",
       "      <td>3</td>\n",
       "      <td>0</td>\n",
       "    </tr>\n",
       "    <tr>\n",
       "      <th>2</th>\n",
       "      <td>0</td>\n",
       "      <td>92</td>\n",
       "      <td>2019</td>\n",
       "      <td>1</td>\n",
       "      <td>0</td>\n",
       "      <td>0</td>\n",
       "      <td>1</td>\n",
       "      <td>0</td>\n",
       "      <td>46500.0</td>\n",
       "      <td>1</td>\n",
       "      <td>...</td>\n",
       "      <td>1</td>\n",
       "      <td>12</td>\n",
       "      <td>1</td>\n",
       "      <td>0</td>\n",
       "      <td>0</td>\n",
       "      <td>0</td>\n",
       "      <td>0</td>\n",
       "      <td>52</td>\n",
       "      <td>1</td>\n",
       "      <td>0</td>\n",
       "    </tr>\n",
       "    <tr>\n",
       "      <th>3</th>\n",
       "      <td>0</td>\n",
       "      <td>3435</td>\n",
       "      <td>2017</td>\n",
       "      <td>2</td>\n",
       "      <td>0</td>\n",
       "      <td>0</td>\n",
       "      <td>0</td>\n",
       "      <td>1</td>\n",
       "      <td>19000.0</td>\n",
       "      <td>0</td>\n",
       "      <td>...</td>\n",
       "      <td>0</td>\n",
       "      <td>8</td>\n",
       "      <td>1</td>\n",
       "      <td>0</td>\n",
       "      <td>0</td>\n",
       "      <td>0</td>\n",
       "      <td>0</td>\n",
       "      <td>29</td>\n",
       "      <td>3</td>\n",
       "      <td>0</td>\n",
       "    </tr>\n",
       "    <tr>\n",
       "      <th>4</th>\n",
       "      <td>0</td>\n",
       "      <td>120</td>\n",
       "      <td>2015</td>\n",
       "      <td>5</td>\n",
       "      <td>0</td>\n",
       "      <td>0</td>\n",
       "      <td>0</td>\n",
       "      <td>1</td>\n",
       "      <td>8500.0</td>\n",
       "      <td>0</td>\n",
       "      <td>...</td>\n",
       "      <td>1</td>\n",
       "      <td>7</td>\n",
       "      <td>0</td>\n",
       "      <td>1</td>\n",
       "      <td>0</td>\n",
       "      <td>0</td>\n",
       "      <td>0</td>\n",
       "      <td>19</td>\n",
       "      <td>1</td>\n",
       "      <td>0</td>\n",
       "    </tr>\n",
       "  </tbody>\n",
       "</table>\n",
       "<p>5 rows × 48 columns</p>\n",
       "</div>"
      ],
      "text/plain": [
       "   prediction  policy_id  auto_year  num_insurers_past_5_years  \\\n",
       "0           0       1684       2014                          2   \n",
       "1           0       1744       2013                          1   \n",
       "2           0         92       2019                          1   \n",
       "3           0       3435       2017                          2   \n",
       "4           0        120       2015                          5   \n",
       "\n",
       "   policy_state_or  collision_type_side  num_witnesses  collision_type_na  \\\n",
       "0                0                    0              2                  0   \n",
       "1                0                    0              0                  0   \n",
       "2                0                    0              1                  0   \n",
       "3                0                    0              0                  1   \n",
       "4                0                    0              0                  1   \n",
       "\n",
       "   total_claim_amount  driver_relationship_self  ...  customer_gender_female  \\\n",
       "0              7500.0                         1  ...                       1   \n",
       "1             10500.0                         1  ...                       1   \n",
       "2             46500.0                         1  ...                       1   \n",
       "3             19000.0                         0  ...                       0   \n",
       "4              8500.0                         0  ...                       1   \n",
       "\n",
       "   incident_hour  authorities_contacted_police  authorities_contacted_none  \\\n",
       "0              9                             0                           1   \n",
       "1              9                             1                           0   \n",
       "2             12                             1                           0   \n",
       "3              8                             1                           0   \n",
       "4              7                             0                           1   \n",
       "\n",
       "   collision_type_rear  authorities_contacted_fire  policy_state_nv  \\\n",
       "0                    1                           0                0   \n",
       "1                    0                           0                0   \n",
       "2                    0                           0                0   \n",
       "3                    0                           0                0   \n",
       "4                    0                           0                0   \n",
       "\n",
       "   customer_age  customer_education  driver_relationship_other  \n",
       "0            31                   4                          0  \n",
       "1            47                   3                          0  \n",
       "2            52                   1                          0  \n",
       "3            29                   3                          0  \n",
       "4            19                   1                          0  \n",
       "\n",
       "[5 rows x 48 columns]"
      ]
     },
     "execution_count": 20,
     "metadata": {},
     "output_type": "execute_result"
    }
   ],
   "source": [
    "# cell 6\n",
    "\n",
    "def get_csv_output_from_s3(s3uri, batch_file):\n",
    "    file_name = \"{}.out\".format(batch_file)\n",
    "    match = re.match(\"s3://([^/]+)/(.*)\", \"{}/{}\".format(s3uri, file_name))\n",
    "    output_bucket, output_prefix = match.group(1), match.group(2)    \n",
    "    s3_client.download_file(output_bucket, output_prefix, file_name)\n",
    "    return pd.read_csv(file_name, sep=\",\", header=None)\n",
    "\n",
    "y_predict = get_csv_output_from_s3(batch_output, \"batchinput.csv\")\n",
    "y_predict.columns = ['prediction']\n",
    "predict = pd.concat([y_predict.round().astype(int), dataset], axis=1)\n",
    "predict.drop([\"Unnamed: 0\"], axis=1, inplace=True)\n",
    "predict.head()"
   ]
  },
  {
   "cell_type": "markdown",
   "metadata": {},
   "source": [
    "Congratulations! You've successfully completed the bonus lab - Batch Transform for on-demand inference"
   ]
  }
 ],
 "metadata": {
  "instance_type": "ml.t3.medium",
  "kernelspec": {
   "display_name": "sagemaker",
   "language": "python",
   "name": "python3"
  },
  "language_info": {
   "codemirror_mode": {
    "name": "ipython",
    "version": 3
   },
   "file_extension": ".py",
   "mimetype": "text/x-python",
   "name": "python",
   "nbconvert_exporter": "python",
   "pygments_lexer": "ipython3",
   "version": "3.10.16"
  }
 },
 "nbformat": 4,
 "nbformat_minor": 4
}
