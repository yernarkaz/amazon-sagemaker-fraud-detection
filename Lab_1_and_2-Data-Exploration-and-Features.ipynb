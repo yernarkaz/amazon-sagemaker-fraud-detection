{
 "cells": [
  {
   "cell_type": "markdown",
   "metadata": {
    "tags": []
   },
   "source": [
    "# Lab1 and Lab2: Data Transformation and Feature Engineering \n",
    "---\n",
    "\n",
    "## Introduction\n",
    "\n",
    "There are two datasets that make up the inputs to our models. The first is insurance claim data and the other is customer data. This data has been *synthetically generated*.\n",
    "\n",
    "Raw dataset visualization and manipulation will be done using the following libraries: [seaborn](https://seaborn.pydata.org/) and [pandas](https://pandas.pydata.org/). \n",
    "\n",
    "We will then generate features and store them using Amazon SageMaker Feature Store. \n",
    "\n",
    "\n",
    "This diagram summarizes the next steps\n",
    "\n",
    "![data-processing.png](images/notebooks/data-processing.png)\n",
    "\n",
    "1. Data is transformed through Amazon SageMaker Data Wrangler\n",
    "2. Transformed data is explored and visualized. \n",
    "3. Feature engineering on the processed data\n",
    "3. Prepared data is exported to S3\n",
    "4. Import S3 data into Amazon SageMaker Feature Store\n",
    "5. Query Amazon SageMaker Feature Store to generate train/test datasets\n",
    "6. Optionally run Amazon SageMaker Clarify to detect bias in the dataset"
   ]
  },
  {
   "cell_type": "markdown",
   "metadata": {},
   "source": [
    "## Index\n",
    "\n",
    "---\n",
    "\n",
    "1. [Prerequisites](<#Prerequisites>)\n",
    "1. [Lab 1: Ingest, Transform And Preprocess Data](<#Lab-1:-Ingest,-Transform-And-Preprocess-Data>)\n",
    "    1. [Data exploration](<#Data-exploration>)\n",
    "    1. [Data visualization](<#Data-visualization>)\n",
    "    1. [Prepare data for training and inference](<#Prepare-data-for-training-and-inference>)\n",
    "1. [Lab 2: Feature Engineering](<#Lab-2:-Feature-Engineering>)\n",
    "    1. [Create the Feature Store](#Create-the-Feature-Store)\n",
    "    1. [Explore Feature Store inside SageMaker Studio](<#Explore-Feature-Store-inside-SageMaker-Studio>)\n",
    "    1. [Create Train and Test Datasets](<#Create-Train-and-Test-Datasets>)\n",
    "    1. [Write training and test data to S3](<#Write-training-and-test-data-to-S3>)"
   ]
  },
  {
   "cell_type": "markdown",
   "metadata": {},
   "source": [
    "## Prerequisites\n",
    "---"
   ]
  },
  {
   "cell_type": "markdown",
   "metadata": {},
   "source": [
    "### Install required third-party libraries. "
   ]
  },
  {
   "cell_type": "markdown",
   "metadata": {},
   "source": [
    "The default SageMaker notebook container already has many helpful packages like Pandas, Numpy and Matplotlib. But charts generated through Seaborn are visually appealing and easier to read. \n",
    "\n",
    "The following python modules will be installed in the next cell:\n",
    "1. `seaborn`: for data visualization\n",
    "2. `sagemaker`: Python SDK to call the SageMaker API\n",
    "3. `boto3`: Python SDK to call the AWS API\n",
    "4. `pandas`: Python data manipulation library\n",
    "\n",
    "(if you encounter a warning about pip running as root user - don't worry about it. We're running everything in a container, so it's not going to break anything. You may also incur some incompatible library errors. Re-run cell 1 again to re-install the libraries and to get rid of them) "
   ]
  },
  {
   "cell_type": "code",
   "execution_count": 1,
   "metadata": {},
   "outputs": [],
   "source": [
    "# cell 1\n",
    "# Update pip  and install seaborn for visualization\n",
    "# !python -m pip install -Uq pip\n",
    "# !pip install -q seaborn==0.11.1 sagemaker==2.117.0 boto3==1.24.62"
   ]
  },
  {
   "cell_type": "markdown",
   "metadata": {},
   "source": [
    "## Lab 1: Ingest, Transform And Preprocess Data\n",
    "---"
   ]
  },
  {
   "cell_type": "markdown",
   "metadata": {
    "tags": []
   },
   "source": [
    "## Data exploration\n",
    "---"
   ]
  },
  {
   "cell_type": "markdown",
   "metadata": {},
   "source": [
    "### Start by importing the data into the notebook."
   ]
  },
  {
   "cell_type": "markdown",
   "metadata": {},
   "source": [
    "The data you're going to consume today is available in the `data` folder. As we walk through the workshop you'll find that we create another copy of the data for training purposes. We'll put the training data in an S3 bucket. \n",
    "\n",
    "So let's get started by pulling the data into the notebook."
   ]
  },
  {
   "cell_type": "markdown",
   "metadata": {},
   "source": [
    "#### Note\n",
    "\n",
    "<font color=\"orange\">As mentioned in the workshop, in the interest of time, we're going to use the preprocessed data for visualization and feature engineering. This data has been created after the transformations have run on the raw dataset.</font>\n",
    "\n",
    "<font color=\"cyan\">The transforms have been created using Amazon SageMaker Data Wrangler. If you wish to learn how to create your own transforms check out the Bonus Labs section of the workshop. The Data Wrangler section also teaches you how to create the final transformed datasets `claims_preprocessed.csv` and `customers_preprocessed.csv`</font>"
   ]
  },
  {
   "cell_type": "code",
   "execution_count": 1,
   "metadata": {},
   "outputs": [],
   "source": [
    "# cell 2\n",
    "# Importing required libraries.\n",
    "import pandas as pd\n",
    "import numpy as np\n",
    "import seaborn as sns  # visualisation\n",
    "import matplotlib.pyplot as plt  # visualisation\n",
    "\n",
    "%matplotlib inline\n",
    "\n",
    "# grab the pastel color set from seaborn\n",
    "colors = sns.color_palette('pastel')\n",
    "sns.set(color_codes=True)\n",
    "\n",
    "# these two variables have the path to the csv files\n",
    "CLAIMS_DATA_CSV = \"./data/claims_preprocessed.csv\"\n",
    "CUSTOMER_DATA_CSV = \"./data/customers_preprocessed.csv\"\n",
    "\n",
    "\n",
    "# pull the data into the notebook by reading it from the folder. Let's create two DataFrames\n",
    "df_claims = pd.read_csv(CLAIMS_DATA_CSV, index_col=0)\n",
    "df_customers = pd.read_csv(CUSTOMER_DATA_CSV, index_col=0)"
   ]
  },
  {
   "cell_type": "markdown",
   "metadata": {},
   "source": [
    "### Explore your dataset\n",
    "If you have a huge dataset, it's generally not possible to import data directly into the notebook. But you can always slice it and load it. Once loaded you can preview it using the `head()` function on the Pandas DataFrame to understand what the column definitions look like"
   ]
  },
  {
   "cell_type": "code",
   "execution_count": 2,
   "metadata": {},
   "outputs": [
    {
     "data": {
      "text/html": [
       "<div>\n",
       "<style scoped>\n",
       "    .dataframe tbody tr th:only-of-type {\n",
       "        vertical-align: middle;\n",
       "    }\n",
       "\n",
       "    .dataframe tbody tr th {\n",
       "        vertical-align: top;\n",
       "    }\n",
       "\n",
       "    .dataframe thead th {\n",
       "        text-align: right;\n",
       "    }\n",
       "</style>\n",
       "<table border=\"1\" class=\"dataframe\">\n",
       "  <thead>\n",
       "    <tr style=\"text-align: right;\">\n",
       "      <th></th>\n",
       "      <th>incident_severity</th>\n",
       "      <th>num_vehicles_involved</th>\n",
       "      <th>num_injuries</th>\n",
       "      <th>num_witnesses</th>\n",
       "      <th>police_report_available</th>\n",
       "      <th>injury_claim</th>\n",
       "      <th>vehicle_claim</th>\n",
       "      <th>total_claim_amount</th>\n",
       "      <th>incident_month</th>\n",
       "      <th>incident_day</th>\n",
       "      <th>...</th>\n",
       "      <th>incident_type_breakin</th>\n",
       "      <th>incident_type_theft</th>\n",
       "      <th>collision_type_front</th>\n",
       "      <th>collision_type_rear</th>\n",
       "      <th>collision_type_side</th>\n",
       "      <th>collision_type_na</th>\n",
       "      <th>authorities_contacted_police</th>\n",
       "      <th>authorities_contacted_none</th>\n",
       "      <th>authorities_contacted_fire</th>\n",
       "      <th>authorities_contacted_ambulance</th>\n",
       "    </tr>\n",
       "    <tr>\n",
       "      <th>policy_id</th>\n",
       "      <th></th>\n",
       "      <th></th>\n",
       "      <th></th>\n",
       "      <th></th>\n",
       "      <th></th>\n",
       "      <th></th>\n",
       "      <th></th>\n",
       "      <th></th>\n",
       "      <th></th>\n",
       "      <th></th>\n",
       "      <th></th>\n",
       "      <th></th>\n",
       "      <th></th>\n",
       "      <th></th>\n",
       "      <th></th>\n",
       "      <th></th>\n",
       "      <th></th>\n",
       "      <th></th>\n",
       "      <th></th>\n",
       "      <th></th>\n",
       "      <th></th>\n",
       "    </tr>\n",
       "  </thead>\n",
       "  <tbody>\n",
       "    <tr>\n",
       "      <th>1</th>\n",
       "      <td>1.0</td>\n",
       "      <td>3</td>\n",
       "      <td>0</td>\n",
       "      <td>2</td>\n",
       "      <td>1.0</td>\n",
       "      <td>0</td>\n",
       "      <td>15000</td>\n",
       "      <td>15000</td>\n",
       "      <td>11</td>\n",
       "      <td>18</td>\n",
       "      <td>...</td>\n",
       "      <td>0.0</td>\n",
       "      <td>0.0</td>\n",
       "      <td>0.0</td>\n",
       "      <td>1.0</td>\n",
       "      <td>0.0</td>\n",
       "      <td>0.0</td>\n",
       "      <td>1.0</td>\n",
       "      <td>0.0</td>\n",
       "      <td>0.0</td>\n",
       "      <td>0.0</td>\n",
       "    </tr>\n",
       "    <tr>\n",
       "      <th>2</th>\n",
       "      <td>1.0</td>\n",
       "      <td>2</td>\n",
       "      <td>3</td>\n",
       "      <td>0</td>\n",
       "      <td>0.0</td>\n",
       "      <td>30000</td>\n",
       "      <td>19500</td>\n",
       "      <td>49500</td>\n",
       "      <td>2</td>\n",
       "      <td>26</td>\n",
       "      <td>...</td>\n",
       "      <td>0.0</td>\n",
       "      <td>0.0</td>\n",
       "      <td>0.0</td>\n",
       "      <td>1.0</td>\n",
       "      <td>0.0</td>\n",
       "      <td>0.0</td>\n",
       "      <td>1.0</td>\n",
       "      <td>0.0</td>\n",
       "      <td>0.0</td>\n",
       "      <td>0.0</td>\n",
       "    </tr>\n",
       "    <tr>\n",
       "      <th>3</th>\n",
       "      <td>0.0</td>\n",
       "      <td>2</td>\n",
       "      <td>0</td>\n",
       "      <td>1</td>\n",
       "      <td>0.0</td>\n",
       "      <td>0</td>\n",
       "      <td>10000</td>\n",
       "      <td>10000</td>\n",
       "      <td>3</td>\n",
       "      <td>18</td>\n",
       "      <td>...</td>\n",
       "      <td>0.0</td>\n",
       "      <td>0.0</td>\n",
       "      <td>0.0</td>\n",
       "      <td>0.0</td>\n",
       "      <td>1.0</td>\n",
       "      <td>0.0</td>\n",
       "      <td>0.0</td>\n",
       "      <td>1.0</td>\n",
       "      <td>0.0</td>\n",
       "      <td>0.0</td>\n",
       "    </tr>\n",
       "    <tr>\n",
       "      <th>4</th>\n",
       "      <td>0.0</td>\n",
       "      <td>1</td>\n",
       "      <td>0</td>\n",
       "      <td>0</td>\n",
       "      <td>0.0</td>\n",
       "      <td>0</td>\n",
       "      <td>14000</td>\n",
       "      <td>14000</td>\n",
       "      <td>1</td>\n",
       "      <td>22</td>\n",
       "      <td>...</td>\n",
       "      <td>1.0</td>\n",
       "      <td>0.0</td>\n",
       "      <td>0.0</td>\n",
       "      <td>0.0</td>\n",
       "      <td>0.0</td>\n",
       "      <td>1.0</td>\n",
       "      <td>0.0</td>\n",
       "      <td>1.0</td>\n",
       "      <td>0.0</td>\n",
       "      <td>0.0</td>\n",
       "    </tr>\n",
       "    <tr>\n",
       "      <th>5</th>\n",
       "      <td>0.0</td>\n",
       "      <td>2</td>\n",
       "      <td>0</td>\n",
       "      <td>2</td>\n",
       "      <td>0.0</td>\n",
       "      <td>0</td>\n",
       "      <td>12000</td>\n",
       "      <td>12000</td>\n",
       "      <td>3</td>\n",
       "      <td>30</td>\n",
       "      <td>...</td>\n",
       "      <td>0.0</td>\n",
       "      <td>0.0</td>\n",
       "      <td>0.0</td>\n",
       "      <td>1.0</td>\n",
       "      <td>0.0</td>\n",
       "      <td>0.0</td>\n",
       "      <td>0.0</td>\n",
       "      <td>1.0</td>\n",
       "      <td>0.0</td>\n",
       "      <td>0.0</td>\n",
       "    </tr>\n",
       "  </tbody>\n",
       "</table>\n",
       "<p>5 rows × 29 columns</p>\n",
       "</div>"
      ],
      "text/plain": [
       "           incident_severity  num_vehicles_involved  num_injuries  \\\n",
       "policy_id                                                           \n",
       "1                        1.0                      3             0   \n",
       "2                        1.0                      2             3   \n",
       "3                        0.0                      2             0   \n",
       "4                        0.0                      1             0   \n",
       "5                        0.0                      2             0   \n",
       "\n",
       "           num_witnesses  police_report_available  injury_claim  \\\n",
       "policy_id                                                         \n",
       "1                      2                      1.0             0   \n",
       "2                      0                      0.0         30000   \n",
       "3                      1                      0.0             0   \n",
       "4                      0                      0.0             0   \n",
       "5                      2                      0.0             0   \n",
       "\n",
       "           vehicle_claim  total_claim_amount  incident_month  incident_day  \\\n",
       "policy_id                                                                    \n",
       "1                  15000               15000              11            18   \n",
       "2                  19500               49500               2            26   \n",
       "3                  10000               10000               3            18   \n",
       "4                  14000               14000               1            22   \n",
       "5                  12000               12000               3            30   \n",
       "\n",
       "           ...  incident_type_breakin  incident_type_theft  \\\n",
       "policy_id  ...                                               \n",
       "1          ...                    0.0                  0.0   \n",
       "2          ...                    0.0                  0.0   \n",
       "3          ...                    0.0                  0.0   \n",
       "4          ...                    1.0                  0.0   \n",
       "5          ...                    0.0                  0.0   \n",
       "\n",
       "           collision_type_front  collision_type_rear  collision_type_side  \\\n",
       "policy_id                                                                   \n",
       "1                           0.0                  1.0                  0.0   \n",
       "2                           0.0                  1.0                  0.0   \n",
       "3                           0.0                  0.0                  1.0   \n",
       "4                           0.0                  0.0                  0.0   \n",
       "5                           0.0                  1.0                  0.0   \n",
       "\n",
       "           collision_type_na  authorities_contacted_police  \\\n",
       "policy_id                                                    \n",
       "1                        0.0                           1.0   \n",
       "2                        0.0                           1.0   \n",
       "3                        0.0                           0.0   \n",
       "4                        1.0                           0.0   \n",
       "5                        0.0                           0.0   \n",
       "\n",
       "           authorities_contacted_none  authorities_contacted_fire  \\\n",
       "policy_id                                                           \n",
       "1                                 0.0                         0.0   \n",
       "2                                 0.0                         0.0   \n",
       "3                                 1.0                         0.0   \n",
       "4                                 1.0                         0.0   \n",
       "5                                 1.0                         0.0   \n",
       "\n",
       "           authorities_contacted_ambulance  \n",
       "policy_id                                   \n",
       "1                                      0.0  \n",
       "2                                      0.0  \n",
       "3                                      0.0  \n",
       "4                                      0.0  \n",
       "5                                      0.0  \n",
       "\n",
       "[5 rows x 29 columns]"
      ]
     },
     "execution_count": 2,
     "metadata": {},
     "output_type": "execute_result"
    }
   ],
   "source": [
    "# cell 3\n",
    "\n",
    "# let's check the claims dataset\n",
    "df_claims.head()"
   ]
  },
  {
   "cell_type": "code",
   "execution_count": 3,
   "metadata": {},
   "outputs": [
    {
     "data": {
      "text/html": [
       "<div>\n",
       "<style scoped>\n",
       "    .dataframe tbody tr th:only-of-type {\n",
       "        vertical-align: middle;\n",
       "    }\n",
       "\n",
       "    .dataframe tbody tr th {\n",
       "        vertical-align: top;\n",
       "    }\n",
       "\n",
       "    .dataframe thead th {\n",
       "        text-align: right;\n",
       "    }\n",
       "</style>\n",
       "<table border=\"1\" class=\"dataframe\">\n",
       "  <thead>\n",
       "    <tr style=\"text-align: right;\">\n",
       "      <th></th>\n",
       "      <th>customer_age</th>\n",
       "      <th>customer_education</th>\n",
       "      <th>months_as_customer</th>\n",
       "      <th>policy_deductable</th>\n",
       "      <th>policy_annual_premium</th>\n",
       "      <th>policy_liability</th>\n",
       "      <th>auto_year</th>\n",
       "      <th>num_claims_past_year</th>\n",
       "      <th>num_insurers_past_5_years</th>\n",
       "      <th>customer_gender_male</th>\n",
       "      <th>customer_gender_female</th>\n",
       "      <th>policy_state_ca</th>\n",
       "      <th>policy_state_wa</th>\n",
       "      <th>policy_state_az</th>\n",
       "      <th>policy_state_or</th>\n",
       "      <th>policy_state_nv</th>\n",
       "      <th>policy_state_id</th>\n",
       "    </tr>\n",
       "    <tr>\n",
       "      <th>policy_id</th>\n",
       "      <th></th>\n",
       "      <th></th>\n",
       "      <th></th>\n",
       "      <th></th>\n",
       "      <th></th>\n",
       "      <th></th>\n",
       "      <th></th>\n",
       "      <th></th>\n",
       "      <th></th>\n",
       "      <th></th>\n",
       "      <th></th>\n",
       "      <th></th>\n",
       "      <th></th>\n",
       "      <th></th>\n",
       "      <th></th>\n",
       "      <th></th>\n",
       "      <th></th>\n",
       "    </tr>\n",
       "  </thead>\n",
       "  <tbody>\n",
       "    <tr>\n",
       "      <th>1</th>\n",
       "      <td>54</td>\n",
       "      <td>2</td>\n",
       "      <td>381</td>\n",
       "      <td>750</td>\n",
       "      <td>3000</td>\n",
       "      <td>1</td>\n",
       "      <td>2019</td>\n",
       "      <td>0</td>\n",
       "      <td>1</td>\n",
       "      <td>0.0</td>\n",
       "      <td>1.0</td>\n",
       "      <td>1.0</td>\n",
       "      <td>0.0</td>\n",
       "      <td>0.0</td>\n",
       "      <td>0.0</td>\n",
       "      <td>0.0</td>\n",
       "      <td>0.0</td>\n",
       "    </tr>\n",
       "    <tr>\n",
       "      <th>2</th>\n",
       "      <td>41</td>\n",
       "      <td>3</td>\n",
       "      <td>31</td>\n",
       "      <td>750</td>\n",
       "      <td>3000</td>\n",
       "      <td>3</td>\n",
       "      <td>2017</td>\n",
       "      <td>0</td>\n",
       "      <td>3</td>\n",
       "      <td>1.0</td>\n",
       "      <td>0.0</td>\n",
       "      <td>0.0</td>\n",
       "      <td>0.0</td>\n",
       "      <td>1.0</td>\n",
       "      <td>0.0</td>\n",
       "      <td>0.0</td>\n",
       "      <td>0.0</td>\n",
       "    </tr>\n",
       "    <tr>\n",
       "      <th>3</th>\n",
       "      <td>57</td>\n",
       "      <td>3</td>\n",
       "      <td>84</td>\n",
       "      <td>750</td>\n",
       "      <td>3000</td>\n",
       "      <td>3</td>\n",
       "      <td>2014</td>\n",
       "      <td>0</td>\n",
       "      <td>1</td>\n",
       "      <td>1.0</td>\n",
       "      <td>0.0</td>\n",
       "      <td>0.0</td>\n",
       "      <td>1.0</td>\n",
       "      <td>0.0</td>\n",
       "      <td>0.0</td>\n",
       "      <td>0.0</td>\n",
       "      <td>0.0</td>\n",
       "    </tr>\n",
       "    <tr>\n",
       "      <th>4</th>\n",
       "      <td>74</td>\n",
       "      <td>4</td>\n",
       "      <td>123</td>\n",
       "      <td>750</td>\n",
       "      <td>2600</td>\n",
       "      <td>2</td>\n",
       "      <td>2018</td>\n",
       "      <td>0</td>\n",
       "      <td>1</td>\n",
       "      <td>0.0</td>\n",
       "      <td>1.0</td>\n",
       "      <td>1.0</td>\n",
       "      <td>0.0</td>\n",
       "      <td>0.0</td>\n",
       "      <td>0.0</td>\n",
       "      <td>0.0</td>\n",
       "      <td>0.0</td>\n",
       "    </tr>\n",
       "    <tr>\n",
       "      <th>5</th>\n",
       "      <td>39</td>\n",
       "      <td>1</td>\n",
       "      <td>34</td>\n",
       "      <td>750</td>\n",
       "      <td>3000</td>\n",
       "      <td>2</td>\n",
       "      <td>2019</td>\n",
       "      <td>0</td>\n",
       "      <td>3</td>\n",
       "      <td>1.0</td>\n",
       "      <td>0.0</td>\n",
       "      <td>0.0</td>\n",
       "      <td>0.0</td>\n",
       "      <td>0.0</td>\n",
       "      <td>0.0</td>\n",
       "      <td>0.0</td>\n",
       "      <td>1.0</td>\n",
       "    </tr>\n",
       "  </tbody>\n",
       "</table>\n",
       "</div>"
      ],
      "text/plain": [
       "           customer_age  customer_education  months_as_customer  \\\n",
       "policy_id                                                         \n",
       "1                    54                   2                 381   \n",
       "2                    41                   3                  31   \n",
       "3                    57                   3                  84   \n",
       "4                    74                   4                 123   \n",
       "5                    39                   1                  34   \n",
       "\n",
       "           policy_deductable  policy_annual_premium  policy_liability  \\\n",
       "policy_id                                                               \n",
       "1                        750                   3000                 1   \n",
       "2                        750                   3000                 3   \n",
       "3                        750                   3000                 3   \n",
       "4                        750                   2600                 2   \n",
       "5                        750                   3000                 2   \n",
       "\n",
       "           auto_year  num_claims_past_year  num_insurers_past_5_years  \\\n",
       "policy_id                                                               \n",
       "1               2019                     0                          1   \n",
       "2               2017                     0                          3   \n",
       "3               2014                     0                          1   \n",
       "4               2018                     0                          1   \n",
       "5               2019                     0                          3   \n",
       "\n",
       "           customer_gender_male  customer_gender_female  policy_state_ca  \\\n",
       "policy_id                                                                  \n",
       "1                           0.0                     1.0              1.0   \n",
       "2                           1.0                     0.0              0.0   \n",
       "3                           1.0                     0.0              0.0   \n",
       "4                           0.0                     1.0              1.0   \n",
       "5                           1.0                     0.0              0.0   \n",
       "\n",
       "           policy_state_wa  policy_state_az  policy_state_or  policy_state_nv  \\\n",
       "policy_id                                                                       \n",
       "1                      0.0              0.0              0.0              0.0   \n",
       "2                      0.0              1.0              0.0              0.0   \n",
       "3                      1.0              0.0              0.0              0.0   \n",
       "4                      0.0              0.0              0.0              0.0   \n",
       "5                      0.0              0.0              0.0              0.0   \n",
       "\n",
       "           policy_state_id  \n",
       "policy_id                   \n",
       "1                      0.0  \n",
       "2                      0.0  \n",
       "3                      0.0  \n",
       "4                      0.0  \n",
       "5                      1.0  "
      ]
     },
     "execution_count": 3,
     "metadata": {},
     "output_type": "execute_result"
    }
   ],
   "source": [
    "# cell 5\n",
    "\n",
    "# and the customer dataset\n",
    "df_customers.head()"
   ]
  },
  {
   "cell_type": "markdown",
   "metadata": {},
   "source": [
    "### Check for any missing data\n",
    "\n",
    "As a data-engineer/scientist before you embark on your adventure, you want to see what the data looks like. Let's check for data inconsistencies."
   ]
  },
  {
   "cell_type": "code",
   "execution_count": 4,
   "metadata": {},
   "outputs": [
    {
     "name": "stdout",
     "output_type": "stream",
     "text": [
      "There are 0 empty rows in claims.csv\n",
      "There are 0 empty rows in customer.csv\n"
     ]
    }
   ],
   "source": [
    "# cell 6\n",
    "\n",
    "# This will print if there are any empty rows in the two datasets\n",
    "print(f\"There are {df_claims.isnull().sum().sum()} empty rows in claims.csv\")\n",
    "print(f\"There are {df_customers.isnull().sum().sum()} empty rows in customer.csv\")"
   ]
  },
  {
   "cell_type": "markdown",
   "metadata": {},
   "source": [
    "### Combine datasets\n",
    "\n",
    "We should also combine the datasets to understand the correlation between the data"
   ]
  },
  {
   "cell_type": "markdown",
   "metadata": {},
   "source": [
    "We can use Pandas for this purpose. A combined dataset csv is provided to us in the data folder. Let's read that in. It is also possible to combine to dataframes using Pandas. But we're going to just read in the pre-combined dataset for now."
   ]
  },
  {
   "cell_type": "code",
   "execution_count": 5,
   "metadata": {},
   "outputs": [
    {
     "data": {
      "text/html": [
       "<div>\n",
       "<style scoped>\n",
       "    .dataframe tbody tr th:only-of-type {\n",
       "        vertical-align: middle;\n",
       "    }\n",
       "\n",
       "    .dataframe tbody tr th {\n",
       "        vertical-align: top;\n",
       "    }\n",
       "\n",
       "    .dataframe thead th {\n",
       "        text-align: right;\n",
       "    }\n",
       "</style>\n",
       "<table border=\"1\" class=\"dataframe\">\n",
       "  <thead>\n",
       "    <tr style=\"text-align: right;\">\n",
       "      <th></th>\n",
       "      <th>policy_id</th>\n",
       "      <th>incident_type_theft</th>\n",
       "      <th>policy_state_ca</th>\n",
       "      <th>policy_deductable</th>\n",
       "      <th>num_witnesses</th>\n",
       "      <th>policy_state_or</th>\n",
       "      <th>incident_month</th>\n",
       "      <th>customer_gender_female</th>\n",
       "      <th>num_insurers_past_5_years</th>\n",
       "      <th>customer_gender_male</th>\n",
       "      <th>...</th>\n",
       "      <th>policy_state_id</th>\n",
       "      <th>incident_hour</th>\n",
       "      <th>vehicle_claim</th>\n",
       "      <th>fraud</th>\n",
       "      <th>incident_type_collision</th>\n",
       "      <th>policy_annual_premium</th>\n",
       "      <th>policy_state_az</th>\n",
       "      <th>policy_state_wa</th>\n",
       "      <th>collision_type_rear</th>\n",
       "      <th>collision_type_front</th>\n",
       "    </tr>\n",
       "  </thead>\n",
       "  <tbody>\n",
       "    <tr>\n",
       "      <th>0</th>\n",
       "      <td>1675</td>\n",
       "      <td>0</td>\n",
       "      <td>0</td>\n",
       "      <td>750</td>\n",
       "      <td>0</td>\n",
       "      <td>0</td>\n",
       "      <td>2</td>\n",
       "      <td>0</td>\n",
       "      <td>1</td>\n",
       "      <td>0</td>\n",
       "      <td>...</td>\n",
       "      <td>0</td>\n",
       "      <td>20</td>\n",
       "      <td>12000.0</td>\n",
       "      <td>0</td>\n",
       "      <td>0</td>\n",
       "      <td>3000</td>\n",
       "      <td>1</td>\n",
       "      <td>0</td>\n",
       "      <td>0</td>\n",
       "      <td>0</td>\n",
       "    </tr>\n",
       "    <tr>\n",
       "      <th>1</th>\n",
       "      <td>9</td>\n",
       "      <td>0</td>\n",
       "      <td>0</td>\n",
       "      <td>750</td>\n",
       "      <td>0</td>\n",
       "      <td>0</td>\n",
       "      <td>9</td>\n",
       "      <td>0</td>\n",
       "      <td>1</td>\n",
       "      <td>1</td>\n",
       "      <td>...</td>\n",
       "      <td>0</td>\n",
       "      <td>15</td>\n",
       "      <td>18500.0</td>\n",
       "      <td>0</td>\n",
       "      <td>1</td>\n",
       "      <td>3000</td>\n",
       "      <td>0</td>\n",
       "      <td>0</td>\n",
       "      <td>0</td>\n",
       "      <td>0</td>\n",
       "    </tr>\n",
       "    <tr>\n",
       "      <th>2</th>\n",
       "      <td>1687</td>\n",
       "      <td>0</td>\n",
       "      <td>1</td>\n",
       "      <td>750</td>\n",
       "      <td>0</td>\n",
       "      <td>0</td>\n",
       "      <td>7</td>\n",
       "      <td>1</td>\n",
       "      <td>1</td>\n",
       "      <td>0</td>\n",
       "      <td>...</td>\n",
       "      <td>0</td>\n",
       "      <td>16</td>\n",
       "      <td>17500.0</td>\n",
       "      <td>0</td>\n",
       "      <td>1</td>\n",
       "      <td>3000</td>\n",
       "      <td>0</td>\n",
       "      <td>0</td>\n",
       "      <td>0</td>\n",
       "      <td>0</td>\n",
       "    </tr>\n",
       "    <tr>\n",
       "      <th>3</th>\n",
       "      <td>1687</td>\n",
       "      <td>0</td>\n",
       "      <td>1</td>\n",
       "      <td>750</td>\n",
       "      <td>0</td>\n",
       "      <td>0</td>\n",
       "      <td>7</td>\n",
       "      <td>0</td>\n",
       "      <td>1</td>\n",
       "      <td>1</td>\n",
       "      <td>...</td>\n",
       "      <td>0</td>\n",
       "      <td>16</td>\n",
       "      <td>17500.0</td>\n",
       "      <td>0</td>\n",
       "      <td>1</td>\n",
       "      <td>3000</td>\n",
       "      <td>0</td>\n",
       "      <td>0</td>\n",
       "      <td>0</td>\n",
       "      <td>0</td>\n",
       "    </tr>\n",
       "    <tr>\n",
       "      <th>4</th>\n",
       "      <td>1692</td>\n",
       "      <td>0</td>\n",
       "      <td>0</td>\n",
       "      <td>750</td>\n",
       "      <td>2</td>\n",
       "      <td>0</td>\n",
       "      <td>6</td>\n",
       "      <td>1</td>\n",
       "      <td>1</td>\n",
       "      <td>0</td>\n",
       "      <td>...</td>\n",
       "      <td>0</td>\n",
       "      <td>8</td>\n",
       "      <td>21500.0</td>\n",
       "      <td>0</td>\n",
       "      <td>1</td>\n",
       "      <td>2800</td>\n",
       "      <td>1</td>\n",
       "      <td>0</td>\n",
       "      <td>0</td>\n",
       "      <td>1</td>\n",
       "    </tr>\n",
       "  </tbody>\n",
       "</table>\n",
       "<p>5 rows × 47 columns</p>\n",
       "</div>"
      ],
      "text/plain": [
       "   policy_id  incident_type_theft  policy_state_ca  policy_deductable  \\\n",
       "0       1675                    0                0                750   \n",
       "1          9                    0                0                750   \n",
       "2       1687                    0                1                750   \n",
       "3       1687                    0                1                750   \n",
       "4       1692                    0                0                750   \n",
       "\n",
       "   num_witnesses  policy_state_or  incident_month  customer_gender_female  \\\n",
       "0              0                0               2                       0   \n",
       "1              0                0               9                       0   \n",
       "2              0                0               7                       1   \n",
       "3              0                0               7                       0   \n",
       "4              2                0               6                       1   \n",
       "\n",
       "   num_insurers_past_5_years  customer_gender_male  ...  policy_state_id  \\\n",
       "0                          1                     0  ...                0   \n",
       "1                          1                     1  ...                0   \n",
       "2                          1                     0  ...                0   \n",
       "3                          1                     1  ...                0   \n",
       "4                          1                     0  ...                0   \n",
       "\n",
       "   incident_hour  vehicle_claim  fraud  incident_type_collision  \\\n",
       "0             20        12000.0      0                        0   \n",
       "1             15        18500.0      0                        1   \n",
       "2             16        17500.0      0                        1   \n",
       "3             16        17500.0      0                        1   \n",
       "4              8        21500.0      0                        1   \n",
       "\n",
       "   policy_annual_premium  policy_state_az  policy_state_wa  \\\n",
       "0                   3000                1                0   \n",
       "1                   3000                0                0   \n",
       "2                   3000                0                0   \n",
       "3                   3000                0                0   \n",
       "4                   2800                1                0   \n",
       "\n",
       "   collision_type_rear  collision_type_front  \n",
       "0                    0                     0  \n",
       "1                    0                     0  \n",
       "2                    0                     0  \n",
       "3                    0                     0  \n",
       "4                    0                     1  \n",
       "\n",
       "[5 rows x 47 columns]"
      ]
     },
     "execution_count": 5,
     "metadata": {},
     "output_type": "execute_result"
    }
   ],
   "source": [
    "# cell 7\n",
    "\n",
    "# You can also combine the datasets directly using two data frames\n",
    "# df_combined = pd.concat([df_claims, df_customers], axis=1)\n",
    "\n",
    "# read in the combined csv.\n",
    "df_combined = pd.read_csv(\"./data/claims_customer.csv\")\n",
    "\n",
    "# get rid of an unwanted column\n",
    "df_combined = df_combined.loc[:, ~df_combined.columns.str.contains(\"^Unnamed: 0\")]\n",
    "\n",
    "# once again, let's check a small slice of the data to check the columns\n",
    "df_combined.head()"
   ]
  },
  {
   "cell_type": "markdown",
   "metadata": {},
   "source": [
    "We can use the `describe` command to generate some statistics about the dataset. This is a very useful comamnd to see distribution of data. You can also use `describe` on a single column of the Dataframe."
   ]
  },
  {
   "cell_type": "code",
   "execution_count": 6,
   "metadata": {},
   "outputs": [
    {
     "data": {
      "text/html": [
       "<div>\n",
       "<style scoped>\n",
       "    .dataframe tbody tr th:only-of-type {\n",
       "        vertical-align: middle;\n",
       "    }\n",
       "\n",
       "    .dataframe tbody tr th {\n",
       "        vertical-align: top;\n",
       "    }\n",
       "\n",
       "    .dataframe thead th {\n",
       "        text-align: right;\n",
       "    }\n",
       "</style>\n",
       "<table border=\"1\" class=\"dataframe\">\n",
       "  <thead>\n",
       "    <tr style=\"text-align: right;\">\n",
       "      <th></th>\n",
       "      <th>policy_id</th>\n",
       "      <th>incident_type_theft</th>\n",
       "      <th>policy_state_ca</th>\n",
       "      <th>policy_deductable</th>\n",
       "      <th>num_witnesses</th>\n",
       "      <th>policy_state_or</th>\n",
       "      <th>incident_month</th>\n",
       "      <th>customer_gender_female</th>\n",
       "      <th>num_insurers_past_5_years</th>\n",
       "      <th>customer_gender_male</th>\n",
       "      <th>...</th>\n",
       "      <th>policy_state_id</th>\n",
       "      <th>incident_hour</th>\n",
       "      <th>vehicle_claim</th>\n",
       "      <th>fraud</th>\n",
       "      <th>incident_type_collision</th>\n",
       "      <th>policy_annual_premium</th>\n",
       "      <th>policy_state_az</th>\n",
       "      <th>policy_state_wa</th>\n",
       "      <th>collision_type_rear</th>\n",
       "      <th>collision_type_front</th>\n",
       "    </tr>\n",
       "  </thead>\n",
       "  <tbody>\n",
       "    <tr>\n",
       "      <th>count</th>\n",
       "      <td>20000.00000</td>\n",
       "      <td>20000.000000</td>\n",
       "      <td>20000.0000</td>\n",
       "      <td>20000.00000</td>\n",
       "      <td>20000.000000</td>\n",
       "      <td>20000.000000</td>\n",
       "      <td>20000.000000</td>\n",
       "      <td>20000.000000</td>\n",
       "      <td>20000.000000</td>\n",
       "      <td>20000.000000</td>\n",
       "      <td>...</td>\n",
       "      <td>20000.00000</td>\n",
       "      <td>20000.000000</td>\n",
       "      <td>20000.000000</td>\n",
       "      <td>20000.000000</td>\n",
       "      <td>20000.000000</td>\n",
       "      <td>20000.000000</td>\n",
       "      <td>20000.000000</td>\n",
       "      <td>20000.000000</td>\n",
       "      <td>20000.000000</td>\n",
       "      <td>20000.000000</td>\n",
       "    </tr>\n",
       "    <tr>\n",
       "      <th>mean</th>\n",
       "      <td>2500.50000</td>\n",
       "      <td>0.048200</td>\n",
       "      <td>0.6204</td>\n",
       "      <td>751.13000</td>\n",
       "      <td>0.866100</td>\n",
       "      <td>0.070000</td>\n",
       "      <td>6.713200</td>\n",
       "      <td>0.372400</td>\n",
       "      <td>1.412200</td>\n",
       "      <td>0.576500</td>\n",
       "      <td>...</td>\n",
       "      <td>0.02730</td>\n",
       "      <td>11.786800</td>\n",
       "      <td>17426.083700</td>\n",
       "      <td>0.030000</td>\n",
       "      <td>0.857200</td>\n",
       "      <td>2925.400000</td>\n",
       "      <td>0.113600</td>\n",
       "      <td>0.121000</td>\n",
       "      <td>0.220900</td>\n",
       "      <td>0.425400</td>\n",
       "    </tr>\n",
       "    <tr>\n",
       "      <th>std</th>\n",
       "      <td>1443.41173</td>\n",
       "      <td>0.214194</td>\n",
       "      <td>0.4853</td>\n",
       "      <td>13.57322</td>\n",
       "      <td>1.097921</td>\n",
       "      <td>0.255153</td>\n",
       "      <td>3.654396</td>\n",
       "      <td>0.483456</td>\n",
       "      <td>0.897291</td>\n",
       "      <td>0.494125</td>\n",
       "      <td>...</td>\n",
       "      <td>0.16296</td>\n",
       "      <td>5.337918</td>\n",
       "      <td>10043.773599</td>\n",
       "      <td>0.170591</td>\n",
       "      <td>0.349878</td>\n",
       "      <td>143.516096</td>\n",
       "      <td>0.317333</td>\n",
       "      <td>0.326135</td>\n",
       "      <td>0.414864</td>\n",
       "      <td>0.494416</td>\n",
       "    </tr>\n",
       "    <tr>\n",
       "      <th>min</th>\n",
       "      <td>1.00000</td>\n",
       "      <td>0.000000</td>\n",
       "      <td>0.0000</td>\n",
       "      <td>750.00000</td>\n",
       "      <td>0.000000</td>\n",
       "      <td>0.000000</td>\n",
       "      <td>1.000000</td>\n",
       "      <td>0.000000</td>\n",
       "      <td>1.000000</td>\n",
       "      <td>0.000000</td>\n",
       "      <td>...</td>\n",
       "      <td>0.00000</td>\n",
       "      <td>0.000000</td>\n",
       "      <td>1000.000000</td>\n",
       "      <td>0.000000</td>\n",
       "      <td>0.000000</td>\n",
       "      <td>2150.000000</td>\n",
       "      <td>0.000000</td>\n",
       "      <td>0.000000</td>\n",
       "      <td>0.000000</td>\n",
       "      <td>0.000000</td>\n",
       "    </tr>\n",
       "    <tr>\n",
       "      <th>25%</th>\n",
       "      <td>1250.75000</td>\n",
       "      <td>0.000000</td>\n",
       "      <td>0.0000</td>\n",
       "      <td>750.00000</td>\n",
       "      <td>0.000000</td>\n",
       "      <td>0.000000</td>\n",
       "      <td>3.000000</td>\n",
       "      <td>0.000000</td>\n",
       "      <td>1.000000</td>\n",
       "      <td>0.000000</td>\n",
       "      <td>...</td>\n",
       "      <td>0.00000</td>\n",
       "      <td>8.000000</td>\n",
       "      <td>10474.250000</td>\n",
       "      <td>0.000000</td>\n",
       "      <td>1.000000</td>\n",
       "      <td>2900.000000</td>\n",
       "      <td>0.000000</td>\n",
       "      <td>0.000000</td>\n",
       "      <td>0.000000</td>\n",
       "      <td>0.000000</td>\n",
       "    </tr>\n",
       "    <tr>\n",
       "      <th>50%</th>\n",
       "      <td>2500.50000</td>\n",
       "      <td>0.000000</td>\n",
       "      <td>1.0000</td>\n",
       "      <td>750.00000</td>\n",
       "      <td>0.000000</td>\n",
       "      <td>0.000000</td>\n",
       "      <td>7.000000</td>\n",
       "      <td>0.000000</td>\n",
       "      <td>1.000000</td>\n",
       "      <td>1.000000</td>\n",
       "      <td>...</td>\n",
       "      <td>0.00000</td>\n",
       "      <td>12.000000</td>\n",
       "      <td>15000.000000</td>\n",
       "      <td>0.000000</td>\n",
       "      <td>1.000000</td>\n",
       "      <td>3000.000000</td>\n",
       "      <td>0.000000</td>\n",
       "      <td>0.000000</td>\n",
       "      <td>0.000000</td>\n",
       "      <td>0.000000</td>\n",
       "    </tr>\n",
       "    <tr>\n",
       "      <th>75%</th>\n",
       "      <td>3750.25000</td>\n",
       "      <td>0.000000</td>\n",
       "      <td>1.0000</td>\n",
       "      <td>750.00000</td>\n",
       "      <td>2.000000</td>\n",
       "      <td>0.000000</td>\n",
       "      <td>10.000000</td>\n",
       "      <td>1.000000</td>\n",
       "      <td>1.000000</td>\n",
       "      <td>1.000000</td>\n",
       "      <td>...</td>\n",
       "      <td>0.00000</td>\n",
       "      <td>16.000000</td>\n",
       "      <td>22005.500000</td>\n",
       "      <td>0.000000</td>\n",
       "      <td>1.000000</td>\n",
       "      <td>3000.000000</td>\n",
       "      <td>0.000000</td>\n",
       "      <td>0.000000</td>\n",
       "      <td>0.000000</td>\n",
       "      <td>1.000000</td>\n",
       "    </tr>\n",
       "    <tr>\n",
       "      <th>max</th>\n",
       "      <td>5000.00000</td>\n",
       "      <td>1.000000</td>\n",
       "      <td>1.0000</td>\n",
       "      <td>1100.00000</td>\n",
       "      <td>5.000000</td>\n",
       "      <td>1.000000</td>\n",
       "      <td>12.000000</td>\n",
       "      <td>1.000000</td>\n",
       "      <td>5.000000</td>\n",
       "      <td>1.000000</td>\n",
       "      <td>...</td>\n",
       "      <td>1.00000</td>\n",
       "      <td>23.000000</td>\n",
       "      <td>51051.000000</td>\n",
       "      <td>1.000000</td>\n",
       "      <td>1.000000</td>\n",
       "      <td>3000.000000</td>\n",
       "      <td>1.000000</td>\n",
       "      <td>1.000000</td>\n",
       "      <td>1.000000</td>\n",
       "      <td>1.000000</td>\n",
       "    </tr>\n",
       "  </tbody>\n",
       "</table>\n",
       "<p>8 rows × 47 columns</p>\n",
       "</div>"
      ],
      "text/plain": [
       "         policy_id  incident_type_theft  policy_state_ca  policy_deductable  \\\n",
       "count  20000.00000         20000.000000       20000.0000        20000.00000   \n",
       "mean    2500.50000             0.048200           0.6204          751.13000   \n",
       "std     1443.41173             0.214194           0.4853           13.57322   \n",
       "min        1.00000             0.000000           0.0000          750.00000   \n",
       "25%     1250.75000             0.000000           0.0000          750.00000   \n",
       "50%     2500.50000             0.000000           1.0000          750.00000   \n",
       "75%     3750.25000             0.000000           1.0000          750.00000   \n",
       "max     5000.00000             1.000000           1.0000         1100.00000   \n",
       "\n",
       "       num_witnesses  policy_state_or  incident_month  customer_gender_female  \\\n",
       "count   20000.000000     20000.000000    20000.000000            20000.000000   \n",
       "mean        0.866100         0.070000        6.713200                0.372400   \n",
       "std         1.097921         0.255153        3.654396                0.483456   \n",
       "min         0.000000         0.000000        1.000000                0.000000   \n",
       "25%         0.000000         0.000000        3.000000                0.000000   \n",
       "50%         0.000000         0.000000        7.000000                0.000000   \n",
       "75%         2.000000         0.000000       10.000000                1.000000   \n",
       "max         5.000000         1.000000       12.000000                1.000000   \n",
       "\n",
       "       num_insurers_past_5_years  customer_gender_male  ...  policy_state_id  \\\n",
       "count               20000.000000          20000.000000  ...      20000.00000   \n",
       "mean                    1.412200              0.576500  ...          0.02730   \n",
       "std                     0.897291              0.494125  ...          0.16296   \n",
       "min                     1.000000              0.000000  ...          0.00000   \n",
       "25%                     1.000000              0.000000  ...          0.00000   \n",
       "50%                     1.000000              1.000000  ...          0.00000   \n",
       "75%                     1.000000              1.000000  ...          0.00000   \n",
       "max                     5.000000              1.000000  ...          1.00000   \n",
       "\n",
       "       incident_hour  vehicle_claim         fraud  incident_type_collision  \\\n",
       "count   20000.000000   20000.000000  20000.000000             20000.000000   \n",
       "mean       11.786800   17426.083700      0.030000                 0.857200   \n",
       "std         5.337918   10043.773599      0.170591                 0.349878   \n",
       "min         0.000000    1000.000000      0.000000                 0.000000   \n",
       "25%         8.000000   10474.250000      0.000000                 1.000000   \n",
       "50%        12.000000   15000.000000      0.000000                 1.000000   \n",
       "75%        16.000000   22005.500000      0.000000                 1.000000   \n",
       "max        23.000000   51051.000000      1.000000                 1.000000   \n",
       "\n",
       "       policy_annual_premium  policy_state_az  policy_state_wa  \\\n",
       "count           20000.000000     20000.000000     20000.000000   \n",
       "mean             2925.400000         0.113600         0.121000   \n",
       "std               143.516096         0.317333         0.326135   \n",
       "min              2150.000000         0.000000         0.000000   \n",
       "25%              2900.000000         0.000000         0.000000   \n",
       "50%              3000.000000         0.000000         0.000000   \n",
       "75%              3000.000000         0.000000         0.000000   \n",
       "max              3000.000000         1.000000         1.000000   \n",
       "\n",
       "       collision_type_rear  collision_type_front  \n",
       "count         20000.000000          20000.000000  \n",
       "mean              0.220900              0.425400  \n",
       "std               0.414864              0.494416  \n",
       "min               0.000000              0.000000  \n",
       "25%               0.000000              0.000000  \n",
       "50%               0.000000              0.000000  \n",
       "75%               0.000000              1.000000  \n",
       "max               1.000000              1.000000  \n",
       "\n",
       "[8 rows x 47 columns]"
      ]
     },
     "execution_count": 6,
     "metadata": {},
     "output_type": "execute_result"
    }
   ],
   "source": [
    "# cell 8\n",
    "\n",
    "df_combined.describe()"
   ]
  },
  {
   "cell_type": "markdown",
   "metadata": {},
   "source": [
    "With this combined data lets get some more information like\n",
    "\n",
    "* `.nunique()` gives us the unique values in a series e.g. `[1, 3, 5, 5, 7]` has 4 unique values\n",
    "* `.isnull()` gives us a boolean result of whether a value at hand is null or not. We would count the number of unique values and then divide it by the total number of values to get percentage of missing elements\n",
    "* `.value_counts` gives us the frequency of the occuring value. e.g. `[1, 2, 4, 5, 5, 2]` would give us `{1: 1, 2: 2, 4: 1, 5: 2}`. But if you normalize this, it will represent the relative capacity of the value's occurence. Basically how many times the value has occurred divided by the total values. This is a good way to see the variability in the values of this column.\n",
    "* `dytpe` give us the data type of the series. e.g. `int`, `float` etc.\n"
   ]
  },
  {
   "cell_type": "code",
   "execution_count": 7,
   "metadata": {},
   "outputs": [
    {
     "data": {
      "text/html": [
       "<div>\n",
       "<style scoped>\n",
       "    .dataframe tbody tr th:only-of-type {\n",
       "        vertical-align: middle;\n",
       "    }\n",
       "\n",
       "    .dataframe tbody tr th {\n",
       "        vertical-align: top;\n",
       "    }\n",
       "\n",
       "    .dataframe thead th {\n",
       "        text-align: right;\n",
       "    }\n",
       "</style>\n",
       "<table border=\"1\" class=\"dataframe\">\n",
       "  <thead>\n",
       "    <tr style=\"text-align: right;\">\n",
       "      <th></th>\n",
       "      <th>feature</th>\n",
       "      <th>unique_values</th>\n",
       "      <th>percent_missing</th>\n",
       "      <th>percent_largest_category</th>\n",
       "      <th>datatype</th>\n",
       "    </tr>\n",
       "  </thead>\n",
       "  <tbody>\n",
       "    <tr>\n",
       "      <th>3</th>\n",
       "      <td>policy_deductable</td>\n",
       "      <td>8</td>\n",
       "      <td>0.0</td>\n",
       "      <td>98.94</td>\n",
       "      <td>int64</td>\n",
       "    </tr>\n",
       "    <tr>\n",
       "      <th>28</th>\n",
       "      <td>authorities_contacted_ambulance</td>\n",
       "      <td>2</td>\n",
       "      <td>0.0</td>\n",
       "      <td>97.45</td>\n",
       "      <td>int64</td>\n",
       "    </tr>\n",
       "    <tr>\n",
       "      <th>37</th>\n",
       "      <td>policy_state_id</td>\n",
       "      <td>2</td>\n",
       "      <td>0.0</td>\n",
       "      <td>97.27</td>\n",
       "      <td>int64</td>\n",
       "    </tr>\n",
       "    <tr>\n",
       "      <th>35</th>\n",
       "      <td>authorities_contacted_fire</td>\n",
       "      <td>2</td>\n",
       "      <td>0.0</td>\n",
       "      <td>97.20</td>\n",
       "      <td>int64</td>\n",
       "    </tr>\n",
       "    <tr>\n",
       "      <th>40</th>\n",
       "      <td>fraud</td>\n",
       "      <td>2</td>\n",
       "      <td>0.0</td>\n",
       "      <td>97.00</td>\n",
       "      <td>int64</td>\n",
       "    </tr>\n",
       "    <tr>\n",
       "      <th>36</th>\n",
       "      <td>driver_relationship_other</td>\n",
       "      <td>2</td>\n",
       "      <td>0.0</td>\n",
       "      <td>96.06</td>\n",
       "      <td>int64</td>\n",
       "    </tr>\n",
       "    <tr>\n",
       "      <th>16</th>\n",
       "      <td>driver_relationship_child</td>\n",
       "      <td>2</td>\n",
       "      <td>0.0</td>\n",
       "      <td>95.49</td>\n",
       "      <td>int64</td>\n",
       "    </tr>\n",
       "    <tr>\n",
       "      <th>27</th>\n",
       "      <td>policy_state_nv</td>\n",
       "      <td>2</td>\n",
       "      <td>0.0</td>\n",
       "      <td>95.23</td>\n",
       "      <td>int64</td>\n",
       "    </tr>\n",
       "    <tr>\n",
       "      <th>1</th>\n",
       "      <td>incident_type_theft</td>\n",
       "      <td>2</td>\n",
       "      <td>0.0</td>\n",
       "      <td>95.18</td>\n",
       "      <td>int64</td>\n",
       "    </tr>\n",
       "    <tr>\n",
       "      <th>23</th>\n",
       "      <td>num_claims_past_year</td>\n",
       "      <td>8</td>\n",
       "      <td>0.0</td>\n",
       "      <td>93.28</td>\n",
       "      <td>int64</td>\n",
       "    </tr>\n",
       "    <tr>\n",
       "      <th>5</th>\n",
       "      <td>policy_state_or</td>\n",
       "      <td>2</td>\n",
       "      <td>0.0</td>\n",
       "      <td>93.00</td>\n",
       "      <td>int64</td>\n",
       "    </tr>\n",
       "    <tr>\n",
       "      <th>17</th>\n",
       "      <td>driver_relationship_spouse</td>\n",
       "      <td>2</td>\n",
       "      <td>0.0</td>\n",
       "      <td>91.09</td>\n",
       "      <td>int64</td>\n",
       "    </tr>\n",
       "    <tr>\n",
       "      <th>33</th>\n",
       "      <td>incident_type_breakin</td>\n",
       "      <td>2</td>\n",
       "      <td>0.0</td>\n",
       "      <td>90.54</td>\n",
       "      <td>int64</td>\n",
       "    </tr>\n",
       "    <tr>\n",
       "      <th>43</th>\n",
       "      <td>policy_state_az</td>\n",
       "      <td>2</td>\n",
       "      <td>0.0</td>\n",
       "      <td>88.64</td>\n",
       "      <td>int64</td>\n",
       "    </tr>\n",
       "    <tr>\n",
       "      <th>44</th>\n",
       "      <td>policy_state_wa</td>\n",
       "      <td>2</td>\n",
       "      <td>0.0</td>\n",
       "      <td>87.90</td>\n",
       "      <td>int64</td>\n",
       "    </tr>\n",
       "    <tr>\n",
       "      <th>20</th>\n",
       "      <td>collision_type_na</td>\n",
       "      <td>2</td>\n",
       "      <td>0.0</td>\n",
       "      <td>85.72</td>\n",
       "      <td>int64</td>\n",
       "    </tr>\n",
       "    <tr>\n",
       "      <th>32</th>\n",
       "      <td>driver_relationship_na</td>\n",
       "      <td>2</td>\n",
       "      <td>0.0</td>\n",
       "      <td>85.72</td>\n",
       "      <td>int64</td>\n",
       "    </tr>\n",
       "    <tr>\n",
       "      <th>41</th>\n",
       "      <td>incident_type_collision</td>\n",
       "      <td>2</td>\n",
       "      <td>0.0</td>\n",
       "      <td>85.72</td>\n",
       "      <td>int64</td>\n",
       "    </tr>\n",
       "    <tr>\n",
       "      <th>13</th>\n",
       "      <td>collision_type_side</td>\n",
       "      <td>2</td>\n",
       "      <td>0.0</td>\n",
       "      <td>78.91</td>\n",
       "      <td>int64</td>\n",
       "    </tr>\n",
       "    <tr>\n",
       "      <th>45</th>\n",
       "      <td>collision_type_rear</td>\n",
       "      <td>2</td>\n",
       "      <td>0.0</td>\n",
       "      <td>77.91</td>\n",
       "      <td>int64</td>\n",
       "    </tr>\n",
       "    <tr>\n",
       "      <th>8</th>\n",
       "      <td>num_insurers_past_5_years</td>\n",
       "      <td>5</td>\n",
       "      <td>0.0</td>\n",
       "      <td>77.68</td>\n",
       "      <td>int64</td>\n",
       "    </tr>\n",
       "    <tr>\n",
       "      <th>34</th>\n",
       "      <td>authorities_contacted_none</td>\n",
       "      <td>2</td>\n",
       "      <td>0.0</td>\n",
       "      <td>75.86</td>\n",
       "      <td>int64</td>\n",
       "    </tr>\n",
       "    <tr>\n",
       "      <th>42</th>\n",
       "      <td>policy_annual_premium</td>\n",
       "      <td>18</td>\n",
       "      <td>0.0</td>\n",
       "      <td>71.68</td>\n",
       "      <td>int64</td>\n",
       "    </tr>\n",
       "    <tr>\n",
       "      <th>11</th>\n",
       "      <td>authorities_contacted_police</td>\n",
       "      <td>2</td>\n",
       "      <td>0.0</td>\n",
       "      <td>70.51</td>\n",
       "      <td>int64</td>\n",
       "    </tr>\n",
       "    <tr>\n",
       "      <th>22</th>\n",
       "      <td>driver_relationship_self</td>\n",
       "      <td>2</td>\n",
       "      <td>0.0</td>\n",
       "      <td>68.36</td>\n",
       "      <td>int64</td>\n",
       "    </tr>\n",
       "    <tr>\n",
       "      <th>29</th>\n",
       "      <td>num_injuries</td>\n",
       "      <td>5</td>\n",
       "      <td>0.0</td>\n",
       "      <td>67.46</td>\n",
       "      <td>int64</td>\n",
       "    </tr>\n",
       "    <tr>\n",
       "      <th>7</th>\n",
       "      <td>customer_gender_female</td>\n",
       "      <td>2</td>\n",
       "      <td>0.0</td>\n",
       "      <td>62.76</td>\n",
       "      <td>int64</td>\n",
       "    </tr>\n",
       "    <tr>\n",
       "      <th>2</th>\n",
       "      <td>policy_state_ca</td>\n",
       "      <td>2</td>\n",
       "      <td>0.0</td>\n",
       "      <td>62.04</td>\n",
       "      <td>int64</td>\n",
       "    </tr>\n",
       "    <tr>\n",
       "      <th>9</th>\n",
       "      <td>customer_gender_male</td>\n",
       "      <td>2</td>\n",
       "      <td>0.0</td>\n",
       "      <td>57.65</td>\n",
       "      <td>int64</td>\n",
       "    </tr>\n",
       "    <tr>\n",
       "      <th>46</th>\n",
       "      <td>collision_type_front</td>\n",
       "      <td>2</td>\n",
       "      <td>0.0</td>\n",
       "      <td>57.46</td>\n",
       "      <td>int64</td>\n",
       "    </tr>\n",
       "    <tr>\n",
       "      <th>31</th>\n",
       "      <td>police_report_available</td>\n",
       "      <td>2</td>\n",
       "      <td>0.0</td>\n",
       "      <td>57.22</td>\n",
       "      <td>int64</td>\n",
       "    </tr>\n",
       "    <tr>\n",
       "      <th>4</th>\n",
       "      <td>num_witnesses</td>\n",
       "      <td>6</td>\n",
       "      <td>0.0</td>\n",
       "      <td>51.58</td>\n",
       "      <td>int64</td>\n",
       "    </tr>\n",
       "    <tr>\n",
       "      <th>26</th>\n",
       "      <td>num_vehicles_involved</td>\n",
       "      <td>7</td>\n",
       "      <td>0.0</td>\n",
       "      <td>46.32</td>\n",
       "      <td>int64</td>\n",
       "    </tr>\n",
       "    <tr>\n",
       "      <th>15</th>\n",
       "      <td>customer_education</td>\n",
       "      <td>5</td>\n",
       "      <td>0.0</td>\n",
       "      <td>44.29</td>\n",
       "      <td>int64</td>\n",
       "    </tr>\n",
       "    <tr>\n",
       "      <th>21</th>\n",
       "      <td>incident_severity</td>\n",
       "      <td>3</td>\n",
       "      <td>0.0</td>\n",
       "      <td>41.71</td>\n",
       "      <td>int64</td>\n",
       "    </tr>\n",
       "    <tr>\n",
       "      <th>30</th>\n",
       "      <td>policy_liability</td>\n",
       "      <td>4</td>\n",
       "      <td>0.0</td>\n",
       "      <td>33.95</td>\n",
       "      <td>int64</td>\n",
       "    </tr>\n",
       "    <tr>\n",
       "      <th>18</th>\n",
       "      <td>injury_claim</td>\n",
       "      <td>890</td>\n",
       "      <td>0.0</td>\n",
       "      <td>33.75</td>\n",
       "      <td>float64</td>\n",
       "    </tr>\n",
       "    <tr>\n",
       "      <th>19</th>\n",
       "      <td>incident_dow</td>\n",
       "      <td>7</td>\n",
       "      <td>0.0</td>\n",
       "      <td>16.87</td>\n",
       "      <td>int64</td>\n",
       "    </tr>\n",
       "    <tr>\n",
       "      <th>25</th>\n",
       "      <td>auto_year</td>\n",
       "      <td>20</td>\n",
       "      <td>0.0</td>\n",
       "      <td>13.86</td>\n",
       "      <td>int64</td>\n",
       "    </tr>\n",
       "    <tr>\n",
       "      <th>6</th>\n",
       "      <td>incident_month</td>\n",
       "      <td>12</td>\n",
       "      <td>0.0</td>\n",
       "      <td>10.67</td>\n",
       "      <td>int64</td>\n",
       "    </tr>\n",
       "    <tr>\n",
       "      <th>38</th>\n",
       "      <td>incident_hour</td>\n",
       "      <td>24</td>\n",
       "      <td>0.0</td>\n",
       "      <td>6.87</td>\n",
       "      <td>int64</td>\n",
       "    </tr>\n",
       "    <tr>\n",
       "      <th>12</th>\n",
       "      <td>incident_day</td>\n",
       "      <td>31</td>\n",
       "      <td>0.0</td>\n",
       "      <td>3.79</td>\n",
       "      <td>int64</td>\n",
       "    </tr>\n",
       "    <tr>\n",
       "      <th>14</th>\n",
       "      <td>customer_age</td>\n",
       "      <td>58</td>\n",
       "      <td>0.0</td>\n",
       "      <td>3.09</td>\n",
       "      <td>int64</td>\n",
       "    </tr>\n",
       "    <tr>\n",
       "      <th>39</th>\n",
       "      <td>vehicle_claim</td>\n",
       "      <td>4621</td>\n",
       "      <td>0.0</td>\n",
       "      <td>1.44</td>\n",
       "      <td>float64</td>\n",
       "    </tr>\n",
       "    <tr>\n",
       "      <th>10</th>\n",
       "      <td>total_claim_amount</td>\n",
       "      <td>4978</td>\n",
       "      <td>0.0</td>\n",
       "      <td>1.29</td>\n",
       "      <td>float64</td>\n",
       "    </tr>\n",
       "    <tr>\n",
       "      <th>24</th>\n",
       "      <td>months_as_customer</td>\n",
       "      <td>387</td>\n",
       "      <td>0.0</td>\n",
       "      <td>0.77</td>\n",
       "      <td>int64</td>\n",
       "    </tr>\n",
       "    <tr>\n",
       "      <th>0</th>\n",
       "      <td>policy_id</td>\n",
       "      <td>5000</td>\n",
       "      <td>0.0</td>\n",
       "      <td>0.02</td>\n",
       "      <td>int64</td>\n",
       "    </tr>\n",
       "  </tbody>\n",
       "</table>\n",
       "</div>"
      ],
      "text/plain": [
       "                            feature  unique_values  percent_missing  \\\n",
       "3                 policy_deductable              8              0.0   \n",
       "28  authorities_contacted_ambulance              2              0.0   \n",
       "37                  policy_state_id              2              0.0   \n",
       "35       authorities_contacted_fire              2              0.0   \n",
       "40                            fraud              2              0.0   \n",
       "36        driver_relationship_other              2              0.0   \n",
       "16        driver_relationship_child              2              0.0   \n",
       "27                  policy_state_nv              2              0.0   \n",
       "1               incident_type_theft              2              0.0   \n",
       "23             num_claims_past_year              8              0.0   \n",
       "5                   policy_state_or              2              0.0   \n",
       "17       driver_relationship_spouse              2              0.0   \n",
       "33            incident_type_breakin              2              0.0   \n",
       "43                  policy_state_az              2              0.0   \n",
       "44                  policy_state_wa              2              0.0   \n",
       "20                collision_type_na              2              0.0   \n",
       "32           driver_relationship_na              2              0.0   \n",
       "41          incident_type_collision              2              0.0   \n",
       "13              collision_type_side              2              0.0   \n",
       "45              collision_type_rear              2              0.0   \n",
       "8         num_insurers_past_5_years              5              0.0   \n",
       "34       authorities_contacted_none              2              0.0   \n",
       "42            policy_annual_premium             18              0.0   \n",
       "11     authorities_contacted_police              2              0.0   \n",
       "22         driver_relationship_self              2              0.0   \n",
       "29                     num_injuries              5              0.0   \n",
       "7            customer_gender_female              2              0.0   \n",
       "2                   policy_state_ca              2              0.0   \n",
       "9              customer_gender_male              2              0.0   \n",
       "46             collision_type_front              2              0.0   \n",
       "31          police_report_available              2              0.0   \n",
       "4                     num_witnesses              6              0.0   \n",
       "26            num_vehicles_involved              7              0.0   \n",
       "15               customer_education              5              0.0   \n",
       "21                incident_severity              3              0.0   \n",
       "30                 policy_liability              4              0.0   \n",
       "18                     injury_claim            890              0.0   \n",
       "19                     incident_dow              7              0.0   \n",
       "25                        auto_year             20              0.0   \n",
       "6                    incident_month             12              0.0   \n",
       "38                    incident_hour             24              0.0   \n",
       "12                     incident_day             31              0.0   \n",
       "14                     customer_age             58              0.0   \n",
       "39                    vehicle_claim           4621              0.0   \n",
       "10               total_claim_amount           4978              0.0   \n",
       "24               months_as_customer            387              0.0   \n",
       "0                         policy_id           5000              0.0   \n",
       "\n",
       "    percent_largest_category datatype  \n",
       "3                      98.94    int64  \n",
       "28                     97.45    int64  \n",
       "37                     97.27    int64  \n",
       "35                     97.20    int64  \n",
       "40                     97.00    int64  \n",
       "36                     96.06    int64  \n",
       "16                     95.49    int64  \n",
       "27                     95.23    int64  \n",
       "1                      95.18    int64  \n",
       "23                     93.28    int64  \n",
       "5                      93.00    int64  \n",
       "17                     91.09    int64  \n",
       "33                     90.54    int64  \n",
       "43                     88.64    int64  \n",
       "44                     87.90    int64  \n",
       "20                     85.72    int64  \n",
       "32                     85.72    int64  \n",
       "41                     85.72    int64  \n",
       "13                     78.91    int64  \n",
       "45                     77.91    int64  \n",
       "8                      77.68    int64  \n",
       "34                     75.86    int64  \n",
       "42                     71.68    int64  \n",
       "11                     70.51    int64  \n",
       "22                     68.36    int64  \n",
       "29                     67.46    int64  \n",
       "7                      62.76    int64  \n",
       "2                      62.04    int64  \n",
       "9                      57.65    int64  \n",
       "46                     57.46    int64  \n",
       "31                     57.22    int64  \n",
       "4                      51.58    int64  \n",
       "26                     46.32    int64  \n",
       "15                     44.29    int64  \n",
       "21                     41.71    int64  \n",
       "30                     33.95    int64  \n",
       "18                     33.75  float64  \n",
       "19                     16.87    int64  \n",
       "25                     13.86    int64  \n",
       "6                      10.67    int64  \n",
       "38                      6.87    int64  \n",
       "12                      3.79    int64  \n",
       "14                      3.09    int64  \n",
       "39                      1.44  float64  \n",
       "10                      1.29  float64  \n",
       "24                      0.77    int64  \n",
       "0                       0.02    int64  "
      ]
     },
     "execution_count": 7,
     "metadata": {},
     "output_type": "execute_result"
    }
   ],
   "source": [
    "# cell 9\n",
    "\n",
    "combined_stats = []\n",
    "\n",
    "# loop over all the columns\n",
    "for col in df_combined.columns:\n",
    "    \n",
    "    # append all stats per column to a list\n",
    "    combined_stats.append(\n",
    "        (\n",
    "            col,\n",
    "            df_combined[col].nunique(),\n",
    "            df_combined[col].isnull().sum() * 100 / df_combined.shape[0],\n",
    "            df_combined[col].value_counts(normalize=True, dropna=False).values[0] * 100,\n",
    "            df_combined[col].dtype,\n",
    "        )\n",
    "    )\n",
    "\n",
    "# finally create a new dataframe with all these values\n",
    "stats_df = pd.DataFrame(\n",
    "    combined_stats,\n",
    "    columns=[\"feature\", \"unique_values\", \"percent_missing\", \"percent_largest_category\", \"datatype\"],\n",
    ")\n",
    "\n",
    "# sort these values by largest category column (descending)\n",
    "stats_df.sort_values(\"percent_largest_category\", ascending=False)"
   ]
  },
  {
   "cell_type": "markdown",
   "metadata": {},
   "source": [
    "## Data visualization\n",
    "\n",
    "---\n",
    "\n",
    "Next - let's understand the various columns (which will eventually become features) in the dataset"
   ]
  },
  {
   "cell_type": "markdown",
   "metadata": {},
   "source": [
    "### Bar plots and Pair plots"
   ]
  },
  {
   "cell_type": "markdown",
   "metadata": {},
   "source": [
    "Let's take a look at the data distribution of the customer dataset. We notice there are two columns, `gender_male` and `gender_female`. Let's see what the distribution is male to females in this dataset"
   ]
  },
  {
   "cell_type": "code",
   "execution_count": 8,
   "metadata": {},
   "outputs": [
    {
     "data": {
      "text/plain": [
       "Text(0.5, 1.0, 'Distribution of male v/s female customers in the dataset')"
      ]
     },
     "execution_count": 8,
     "metadata": {},
     "output_type": "execute_result"
    },
    {
     "data": {
      "image/png": "[encoded data removed]",
      "text/plain": [
       "<Figure size 640x480 with 1 Axes>"
      ]
     },
     "metadata": {},
     "output_type": "display_data"
    }
   ],
   "source": [
    "# cell 10\n",
    "\n",
    "# remember value_count gives us the counts of unique values in a column\n",
    "df_customers.customer_gender_female.value_counts(normalize=True).plot.bar(color=colors[:2])\n",
    "plt.xticks([0, 1], [\"Male\", \"Female\"]);\n",
    "plt.ylabel(\"Percentage of customers\")\n",
    "plt.title(\"Distribution of male v/s female customers in the dataset\")"
   ]
  },
  {
   "cell_type": "markdown",
   "metadata": {},
   "source": [
    "The distribution is skewed more towards male customers"
   ]
  },
  {
   "cell_type": "markdown",
   "metadata": {},
   "source": [
    "Next - plot the bar graph of fraudulent claims from the claims dataset"
   ]
  },
  {
   "cell_type": "code",
   "execution_count": 9,
   "metadata": {},
   "outputs": [
    {
     "data": {
      "text/plain": [
       "Text(0.5, 1.0, 'Distribution of fraudulent v/s non fraudulent claims')"
      ]
     },
     "execution_count": 9,
     "metadata": {},
     "output_type": "execute_result"
    },
    {
     "data": {
      "image/png": "[encoded data removed]",
      "text/plain": [
       "<Figure size 600x600 with 1 Axes>"
      ]
     },
     "metadata": {},
     "output_type": "display_data"
    }
   ],
   "source": [
    "# cell 11\n",
    "\n",
    "plt.figure(figsize=(6,6), tight_layout=True)\n",
    "df_claims.fraud.value_counts(normalize=True).plot.bar(color=colors[:2])\n",
    "plt.xticks([0, 1], [\"Not Fraud\", \"Fraud\"]);\n",
    "plt.ylabel(\"Percentage of customers\")\n",
    "plt.title(\"Distribution of fraudulent v/s non fraudulent claims\")"
   ]
  },
  {
   "cell_type": "markdown",
   "metadata": {},
   "source": [
    "Majority of the claims aren't fraudulent which is a good sign"
   ]
  },
  {
   "cell_type": "markdown",
   "metadata": {},
   "source": [
    "Let's plot the education categories of the customers"
   ]
  },
  {
   "cell_type": "code",
   "execution_count": 10,
   "metadata": {},
   "outputs": [
    {
     "data": {
      "image/png": "[encoded data removed]",
      "text/plain": [
       "<Figure size 800x500 with 1 Axes>"
      ]
     },
     "metadata": {},
     "output_type": "display_data"
    }
   ],
   "source": [
    "# cell 12\n",
    "\n",
    "# set size of the plot\n",
    "plt.figure(figsize=(8,5), tight_layout=True)\n",
    "\n",
    "# this prepares the data that needs to be displayed\n",
    "educ = df_customers.customer_education.value_counts(normalize=True, sort=False)\n",
    "\n",
    "# this plots the bar chart\n",
    "plt.bar(educ.index, educ.values, color=colors[:5])\n",
    "plt.title(\"Education distribution of customers\")\n",
    "plt.ylabel(\"Percentage of customers\")\n",
    "plt.xlabel(\"Customer Education Level in years\");"
   ]
  },
  {
   "cell_type": "markdown",
   "metadata": {},
   "source": [
    "Majority of the customers have at least three years of education"
   ]
  },
  {
   "cell_type": "markdown",
   "metadata": {},
   "source": [
    "Let's plot the total claim amounts"
   ]
  },
  {
   "cell_type": "code",
   "execution_count": 11,
   "metadata": {},
   "outputs": [
    {
     "data": {
      "text/plain": [
       "Text(0.5, 1.0, 'Histogram of claim amounts')"
      ]
     },
     "execution_count": 11,
     "metadata": {},
     "output_type": "execute_result"
    },
    {
     "data": {
      "image/png": "[encoded data removed]",
      "text/plain": [
       "<Figure size 800x500 with 1 Axes>"
      ]
     },
     "metadata": {},
     "output_type": "display_data"
    }
   ],
   "source": [
    "# cell 13\n",
    "\n",
    "plt.figure(figsize=(8,5), tight_layout=True)\n",
    "\n",
    "# this will create a histogram with same sized 30 bins\n",
    "plt.hist(df_claims.total_claim_amount, bins=30, color=sns.color_palette('Set2')[2], linewidth=2)\n",
    "\n",
    "plt.xlabel(\"Total Claim Amount ($)\")\n",
    "plt.ylabel(\"Number of claims\")\n",
    "plt.title(\"Histogram of claim amounts\")"
   ]
  },
  {
   "cell_type": "markdown",
   "metadata": {},
   "source": [
    "Majority of the total claim amounts are under \"$25,000\". The higher claim amounts on the x-axis show up in this chart but they have very few numbers of claims against them. Hence, nothing is visible against them on the y-axis."
   ]
  },
  {
   "cell_type": "code",
   "execution_count": 12,
   "metadata": {},
   "outputs": [],
   "source": [
    "# cell 13-2 (optional)\n",
    "# You can verify that there are claims with amounts > $75000 by uncommenting the following lines\n",
    "\n",
    "# plt.figure(figsize=(10,6), tight_layout=True)\n",
    "# plt.hist(df_claims.total_claim_amount[lambda x: x >= 100000], color=sns.color_palette('Set2')[2], linewidth=2)\n",
    "# plt.xlabel(\"Total Claim Amount ($)\")\n",
    "# plt.ylabel(\"Number of claims\")\n",
    "# plt.title(\"Histogram of claim amounts\")\n"
   ]
  },
  {
   "cell_type": "markdown",
   "metadata": {},
   "source": [
    "Next - plot the number of claims filed in the past year"
   ]
  },
  {
   "cell_type": "code",
   "execution_count": 13,
   "metadata": {},
   "outputs": [
    {
     "data": {
      "text/plain": [
       "Text(0, 0.5, 'Number of customers')"
      ]
     },
     "execution_count": 13,
     "metadata": {},
     "output_type": "execute_result"
    },
    {
     "data": {
      "image/png": "[encoded data removed]",
      "text/plain": [
       "<Figure size 800x500 with 1 Axes>"
      ]
     },
     "metadata": {},
     "output_type": "display_data"
    }
   ],
   "source": [
    "# cell 14\n",
    "\n",
    "plt.figure(figsize=(8,5), tight_layout=True)\n",
    "df_customers.num_claims_past_year.hist(color=sns.color_palette('magma')[2], linewidth=0.5)\n",
    "plt.title(\"Number of claims in the per year\")\n",
    "plt.xlabel(\"Number of claims per year\")\n",
    "plt.ylabel(\"Number of customers\")"
   ]
  },
  {
   "cell_type": "markdown",
   "metadata": {},
   "source": [
    "Most customers did not file any claims in the previous year, but some filed as many as 7 claims. Even though the chart doesn't show a Y value against claims 3 - 7, the fact that these value show up on the x-axis means there are some customers who did file 2 to 7 claims. \n",
    "\n",
    "To verify this we can filter out claim numbers 0 to 1 and plot only 2 - 7."
   ]
  },
  {
   "cell_type": "code",
   "execution_count": 14,
   "metadata": {},
   "outputs": [
    {
     "data": {
      "text/plain": [
       "Text(0, 0.5, 'Number of customers')"
      ]
     },
     "execution_count": 14,
     "metadata": {},
     "output_type": "execute_result"
    },
    {
     "data": {
      "image/png": "[encoded data removed]",
      "text/plain": [
       "<Figure size 800x500 with 1 Axes>"
      ]
     },
     "metadata": {},
     "output_type": "display_data"
    }
   ],
   "source": [
    "# cell 14-2\n",
    "\n",
    "plt.figure(figsize=(8,5), tight_layout=True)\n",
    "\n",
    "# lambda is a python construct which helps in writing functions inline. In this case we keep values >= 2\n",
    "# This Lambda is not to be confused by AWS Lambda\n",
    "df_customers.num_claims_past_year[lambda x: x >= 2].hist(color=sns.color_palette('Set2')[2], linewidth=0.5,rwidth=0.7)\n",
    "plt.title(\"Number of claims in the per year\")\n",
    "plt.xlabel(\"Number of claims per year\")\n",
    "plt.ylabel(\"Number of customers\")"
   ]
  },
  {
   "cell_type": "markdown",
   "metadata": {},
   "source": [
    "As mentioned, a very few number of people filed 2 to 7 claims compared to 4500+ who never a filed a claim"
   ]
  },
  {
   "cell_type": "markdown",
   "metadata": {},
   "source": [
    "Next, let's check how the fraud claims are distributed between the two genders. "
   ]
  },
  {
   "cell_type": "code",
   "execution_count": 15,
   "metadata": {},
   "outputs": [
    {
     "data": {
      "text/plain": [
       "Text(0, 0.5, 'Total number of fraud cases')"
      ]
     },
     "execution_count": 15,
     "metadata": {},
     "output_type": "execute_result"
    },
    {
     "data": {
      "image/png": "[encoded data removed]",
      "text/plain": [
       "<Figure size 800x500 with 1 Axes>"
      ]
     },
     "metadata": {},
     "output_type": "display_data"
    }
   ],
   "source": [
    "# cell 15\n",
    "\n",
    "plt.figure(figsize=(8,5), tight_layout=True)\n",
    "df_combined.groupby(\"customer_gender_female\").sum()[\"fraud\"].plot.bar(color=colors[:2], linewidth=2)\n",
    "plt.xticks([0, 1], [\"Male\", \"Female\"])\n",
    "plt.title(\"Fraud distribution by Gender\");\n",
    "plt.xlabel(\"Gender\")\n",
    "plt.ylabel(\"Total number of fraud cases\")"
   ]
  },
  {
   "cell_type": "markdown",
   "metadata": {},
   "source": [
    "Fraudulent claims seem to come disproportionately from male customers."
   ]
  },
  {
   "cell_type": "code",
   "execution_count": 16,
   "metadata": {},
   "outputs": [
    {
     "name": "stderr",
     "output_type": "stream",
     "text": [
      "/Users/yernar_smagulov/miniconda3/envs/sagemaker/lib/python3.10/site-packages/seaborn/axisgrid.py:1513: UserWarning: Ignoring `palette` because no `hue` variable has been assigned.\n",
      "  func(x=vector, **plot_kwargs)\n",
      "/Users/yernar_smagulov/miniconda3/envs/sagemaker/lib/python3.10/site-packages/seaborn/axisgrid.py:1513: UserWarning: Ignoring `palette` because no `hue` variable has been assigned.\n",
      "  func(x=vector, **plot_kwargs)\n",
      "/Users/yernar_smagulov/miniconda3/envs/sagemaker/lib/python3.10/site-packages/seaborn/axisgrid.py:1513: UserWarning: Ignoring `palette` because no `hue` variable has been assigned.\n",
      "  func(x=vector, **plot_kwargs)\n",
      "/Users/yernar_smagulov/miniconda3/envs/sagemaker/lib/python3.10/site-packages/seaborn/axisgrid.py:1615: UserWarning: Ignoring `palette` because no `hue` variable has been assigned.\n",
      "  func(x=x, y=y, **kwargs)\n",
      "/Users/yernar_smagulov/miniconda3/envs/sagemaker/lib/python3.10/site-packages/seaborn/axisgrid.py:1615: UserWarning: Ignoring `palette` because no `hue` variable has been assigned.\n",
      "  func(x=x, y=y, **kwargs)\n",
      "/Users/yernar_smagulov/miniconda3/envs/sagemaker/lib/python3.10/site-packages/seaborn/axisgrid.py:1615: UserWarning: Ignoring `palette` because no `hue` variable has been assigned.\n",
      "  func(x=x, y=y, **kwargs)\n",
      "/Users/yernar_smagulov/miniconda3/envs/sagemaker/lib/python3.10/site-packages/seaborn/axisgrid.py:1615: UserWarning: Ignoring `palette` because no `hue` variable has been assigned.\n",
      "  func(x=x, y=y, **kwargs)\n",
      "/Users/yernar_smagulov/miniconda3/envs/sagemaker/lib/python3.10/site-packages/seaborn/axisgrid.py:1615: UserWarning: Ignoring `palette` because no `hue` variable has been assigned.\n",
      "  func(x=x, y=y, **kwargs)\n",
      "/Users/yernar_smagulov/miniconda3/envs/sagemaker/lib/python3.10/site-packages/seaborn/axisgrid.py:1615: UserWarning: Ignoring `palette` because no `hue` variable has been assigned.\n",
      "  func(x=x, y=y, **kwargs)\n"
     ]
    },
    {
     "data": {
      "image/png": "[encoded data removed]",
      "text/plain": [
       "<Figure size 800x800 with 12 Axes>"
      ]
     },
     "metadata": {},
     "output_type": "display_data"
    }
   ],
   "source": [
    "# cell 16\n",
    "\n",
    "ax = sns.pairplot(\n",
    "    data=df_customers, \n",
    "    vars=[\"num_insurers_past_5_years\", \"months_as_customer\", \"customer_age\"],\n",
    "    palette='Set2'\n",
    ");\n",
    "ax.fig.set_figheight(8)\n",
    "ax.fig.set_figwidth(8)"
   ]
  },
  {
   "cell_type": "markdown",
   "metadata": {},
   "source": [
    "Understandably, the `months_as_customer` and `customer_age` are correlated with each other. A younger person has been driving for a shorter time and therefore they have a shorter duration as a customer.\n",
    "\n",
    "We can also see that the `num_insurers_past_5_years` is negatively correlated with `months_as_customer`. If someone frequently jumped around to different insurers, then they probably spent less time as a customer for this insurer."
   ]
  },
  {
   "cell_type": "code",
   "execution_count": 17,
   "metadata": {},
   "outputs": [
    {
     "name": "stderr",
     "output_type": "stream",
     "text": [
      "/var/folders/q9/bmm0955s04zby06p4x69zt140000gn/T/ipykernel_86818/2772346492.py:4: UserWarning: Ignoring `palette` because no `hue` variable has been assigned.\n",
      "  ax = sns.lineplot(x=\"num_insurers_past_5_years\", y=\"fraud\", data=df_combined, palette=\"Set2\");\n"
     ]
    },
    {
     "data": {
      "text/plain": [
       "[Text(0.5, 1.0, 'Correlation between number of insurers and fraud cases'),\n",
       " Text(0.5, 0, 'Number of insurers in the past 5 years'),\n",
       " Text(0, 0.5, 'Number of fraud cases')]"
      ]
     },
     "execution_count": 17,
     "metadata": {},
     "output_type": "execute_result"
    },
    {
     "data": {
      "image/png": "[encoded data removed]",
      "text/plain": [
       "<Figure size 800x500 with 1 Axes>"
      ]
     },
     "metadata": {},
     "output_type": "display_data"
    }
   ],
   "source": [
    "# cell 17\n",
    "\n",
    "plt.figure(figsize=(8,5), tight_layout=True)\n",
    "ax = sns.lineplot(x=\"num_insurers_past_5_years\", y=\"fraud\", data=df_combined, palette=\"Set2\");\n",
    "ax.set(title=\"Correlation between number of insurers and fraud cases\", xlabel=\"Number of insurers in the past 5 years\", ylabel=\"Number of fraud cases\")"
   ]
  },
  {
   "cell_type": "markdown",
   "metadata": {},
   "source": [
    "<font color=\"cyan\">Fraud is positively correlated with having a greater number of insurers over the past 5 years. Customers who switched insurers more frequently also had more prevelance of fraud</font>"
   ]
  },
  {
   "cell_type": "markdown",
   "metadata": {},
   "source": [
    "Now let's understand the age distribution in our dataset. We're going to rely on a density and a histogram plot"
   ]
  },
  {
   "cell_type": "code",
   "execution_count": 18,
   "metadata": {},
   "outputs": [
    {
     "data": {
      "text/plain": [
       "[Text(0.5, 1.0, 'Distribution of customer age'), Text(0.5, 0, 'Customer age')]"
      ]
     },
     "execution_count": 18,
     "metadata": {},
     "output_type": "execute_result"
    },
    {
     "data": {
      "image/png": "[encoded data removed]",
      "text/plain": [
       "<Figure size 1000x600 with 1 Axes>"
      ]
     },
     "metadata": {},
     "output_type": "display_data"
    }
   ],
   "source": [
    "# cell 18\n",
    "\n",
    "plt.figure(figsize=(10,6), tight_layout=True)\n",
    "ax = sns.histplot(df_customers, x=\"customer_age\", fill=True, bins=9, kde=True)\n",
    "ax.set(title=\"Distribution of customer age\", xlabel=\"Customer age\")"
   ]
  },
  {
   "cell_type": "markdown",
   "metadata": {},
   "source": [
    "The age distribution is somewhat symmetric. We see a higher density of customers between the ages of 35 to 50. This can be further confirmed by the `describe` call on the df_customers dataframe `customer_age` column."
   ]
  },
  {
   "cell_type": "code",
   "execution_count": 19,
   "metadata": {},
   "outputs": [
    {
     "data": {
      "text/plain": [
       "count    5000.000000\n",
       "mean       45.085400\n",
       "std        14.290254\n",
       "min        18.000000\n",
       "25%        34.000000\n",
       "50%        45.000000\n",
       "75%        56.000000\n",
       "max        75.000000\n",
       "Name: customer_age, dtype: float64"
      ]
     },
     "execution_count": 19,
     "metadata": {},
     "output_type": "execute_result"
    }
   ],
   "source": [
    "# cell 18-2\n",
    "\n",
    "df_customers.customer_age.describe()"
   ]
  },
  {
   "cell_type": "markdown",
   "metadata": {},
   "source": [
    "<font color='cyan'>75% of the users are less than or equal to 56 years old</font>"
   ]
  },
  {
   "cell_type": "markdown",
   "metadata": {},
   "source": [
    "### Box plots\n",
    "\n",
    "*A brief explanation:*\n",
    "Box plots divide the data into sections that each contain approximately 25% of the data in that set. These sections are called Quartiles. It is a way to see dispersion (variability, scatter or spread) of the data along with outliers. Outliers are data points that are numerically far away from rest of the data and are usually not considered for training.\n",
    "\n",
    "The smallest value and largest value are found at the end of the ‘whiskers’ and are useful for providing a visual indicator regarding the spread of scores (e.g. the range).\n",
    "\n",
    "The line at the center of the box plot is the median. \n",
    "\n"
   ]
  },
  {
   "cell_type": "code",
   "execution_count": 20,
   "metadata": {},
   "outputs": [
    {
     "name": "stderr",
     "output_type": "stream",
     "text": [
      "/var/folders/q9/bmm0955s04zby06p4x69zt140000gn/T/ipykernel_86818/1399423072.py:4: FutureWarning: \n",
      "\n",
      "Passing `palette` without assigning `hue` is deprecated and will be removed in v0.14.0. Assign the `y` variable to `hue` and set `legend=False` for the same effect.\n",
      "\n",
      "  ax = sns.boxplot(x=df_customers[\"months_as_customer\"], palette='Set2', linewidth=2.5);\n"
     ]
    },
    {
     "data": {
      "text/plain": [
       "[Text(0.5, 1.0, 'Distribution of months as customers'),\n",
       " Text(0.5, 0, 'Distribution of customers')]"
      ]
     },
     "execution_count": 20,
     "metadata": {},
     "output_type": "execute_result"
    },
    {
     "data": {
      "image/png": "[encoded data removed]",
      "text/plain": [
       "<Figure size 800x500 with 1 Axes>"
      ]
     },
     "metadata": {},
     "output_type": "display_data"
    }
   ],
   "source": [
    "# cell 19\n",
    "\n",
    "plt.figure(figsize=(8,5), tight_layout=True)\n",
    "ax = sns.boxplot(x=df_customers[\"months_as_customer\"], palette='Set2', linewidth=2.5);\n",
    "ax.set(title='Distribution of months as customers', xlabel='Distribution of customers')"
   ]
  },
  {
   "cell_type": "markdown",
   "metadata": {},
   "source": [
    "In this box plot we can see there are datapoints outside of the distribution. <font color=\"orange\">These are outliers</font>. The median in this plot shows that the median \"months as customer\" is less than 100 (~8.3y). \n",
    "\n",
    "\n",
    "The majority of the customers have been customers from 50 to 150 months. Again, this can be confirmed if we use the `describe` call on the `df_customers` dataframe"
   ]
  },
  {
   "cell_type": "code",
   "execution_count": 21,
   "metadata": {},
   "outputs": [
    {
     "data": {
      "text/plain": [
       "count    5000.000000\n",
       "mean      101.328200\n",
       "std        73.718143\n",
       "min         1.000000\n",
       "25%        46.000000\n",
       "50%        89.000000\n",
       "75%       141.000000\n",
       "max       496.000000\n",
       "Name: months_as_customer, dtype: float64"
      ]
     },
     "execution_count": 21,
     "metadata": {},
     "output_type": "execute_result"
    }
   ],
   "source": [
    "# cell 19-2\n",
    "\n",
    "df_customers.months_as_customer.describe()"
   ]
  },
  {
   "cell_type": "markdown",
   "metadata": {},
   "source": [
    "### Correlation matrices"
   ]
  },
  {
   "cell_type": "code",
   "execution_count": 22,
   "metadata": {},
   "outputs": [
    {
     "data": {
      "text/plain": [
       "[Text(0, 0.5, 'fraud'),\n",
       " Text(0, 1.5, 'customer_gender_male'),\n",
       " Text(0, 2.5, 'customer_gender_female'),\n",
       " Text(0, 3.5, 'months_as_customer'),\n",
       " Text(0, 4.5, 'num_insurers_past_5_years')]"
      ]
     },
     "execution_count": 22,
     "metadata": {},
     "output_type": "execute_result"
    },
    {
     "data": {
      "image/png": "[encoded data removed]",
      "text/plain": [
       "<Figure size 800x800 with 2 Axes>"
      ]
     },
     "metadata": {},
     "output_type": "display_data"
    }
   ],
   "source": [
    "# cell 20\n",
    "\n",
    "# Creating a correlation matrix of fraud, gender, months as customer, and number of different insurers\n",
    "\n",
    "plt.figure(figsize=(8,8), tight_layout=True)\n",
    "cols = [\n",
    "    \"fraud\",\n",
    "    \"customer_gender_male\",\n",
    "    \"customer_gender_female\",\n",
    "    \"months_as_customer\",\n",
    "    \"num_insurers_past_5_years\",\n",
    "]\n",
    "corr = df_combined[cols].corr()\n",
    "\n",
    "# plot the correlation matrix\n",
    "ax = sns.heatmap(corr, annot=True, cmap=\"Reds\");\n",
    "\n",
    "ax.set_xticklabels(ax.xaxis.get_ticklabels(), fontsize=8, ha=\"right\", rotation=45)\n",
    "ax.set_yticklabels(ax.yaxis.get_ticklabels(), fontsize=8, va=\"center\", rotation=0)\n"
   ]
  },
  {
   "cell_type": "markdown",
   "metadata": {},
   "source": [
    "Fraud is correlated with having more insurers in the past 5 years, and negatively correlated with being a customer for a longer period of time. These go hand in hand and means that long time customers are less likely to commit fraud.\n",
    "\n",
    "Other statistical insights:\n",
    "* Negative correlation between `fraud` and female customers and positive correlation between `fraud` and the male gender. This insight was confirmed in our previous section with barcharts. \n",
    "* Looking at these correlations some may look obvious but correlation charts give a good idea of magnitude of the relationship. What that means is it's one thing to instinctively know that if a certain metric increases the other positively correlated metric will increase as well. However, the rate at which it grows also plays an important part in the analysis."
   ]
  },
  {
   "cell_type": "code",
   "execution_count": 23,
   "metadata": {},
   "outputs": [
    {
     "data": {
      "image/png": "[encoded data removed]",
      "text/plain": [
       "<Figure size 1200x1200 with 2 Axes>"
      ]
     },
     "metadata": {},
     "output_type": "display_data"
    }
   ],
   "source": [
    "# cell 21\n",
    "\n",
    "import matplotlib.pyplot as plt\n",
    "import numpy as np\n",
    "\n",
    "# set the background to white so the chart is readable\n",
    "sns.set_style(\"white\")\n",
    "\n",
    "# we're going to stack the following columns against each other for correlations\n",
    "corr_list = [\n",
    "    \"customer_age\",\n",
    "    \"months_as_customer\",\n",
    "    \"total_claim_amount\",\n",
    "    \"injury_claim\",\n",
    "    \"vehicle_claim\",\n",
    "    \"incident_severity\",\n",
    "    \"fraud\",\n",
    "]\n",
    "\n",
    "# get the filtered out data frame for these columns only\n",
    "corr_df = df_combined[corr_list]\n",
    "\n",
    "# round down to 2 decimal digits. Higher decimal digits don't make a lot of difference\n",
    "corr = round(corr_df.corr(), 2)\n",
    "\n",
    "fix, ax = plt.subplots(figsize=(12, 12))\n",
    "\n",
    "# create the heatmap\n",
    "ax = sns.heatmap(corr, ax=ax, annot=True, cmap=\"Reds\")\n",
    "\n",
    "ax.set_xticklabels(ax.xaxis.get_ticklabels(), fontsize=10, ha=\"right\", rotation=45)\n",
    "ax.set_yticklabels(ax.yaxis.get_ticklabels(), fontsize=10, va=\"center\", rotation=0)\n",
    "\n",
    "plt.show()"
   ]
  },
  {
   "cell_type": "markdown",
   "metadata": {},
   "source": [
    "* Relatively higher positive correlation between `total_claim_amount` and `injury_claim` than `total_claim_amount` and `vehicle_claim`.\n",
    "* `incident_severity` relatively higher in positive correlation with `vehicle_claim` than `injury_claim` - this indicates that the severe incidents very likely saw higher cases of vehicle claims and fewer of injury claims. "
   ]
  },
  {
   "cell_type": "markdown",
   "metadata": {},
   "source": [
    "## Prepare data for training and inference\n",
    "---\n",
    "\n"
   ]
  },
  {
   "cell_type": "markdown",
   "metadata": {},
   "source": [
    "### Imports"
   ]
  },
  {
   "cell_type": "code",
   "execution_count": 24,
   "metadata": {},
   "outputs": [
    {
     "name": "stderr",
     "output_type": "stream",
     "text": [
      "/Users/yernar_smagulov/miniconda3/envs/sagemaker/lib/python3.10/site-packages/pydantic/_internal/_fields.py:192: UserWarning: Field name \"json\" in \"MonitoringDatasetFormat\" shadows an attribute in parent \"Base\"\n",
      "  warnings.warn(\n"
     ]
    },
    {
     "data": {
      "text/html": [
       "<pre style=\"white-space:pre;overflow-x:auto;line-height:normal;font-family:Menlo,'DejaVu Sans Mono',consolas,'Courier New',monospace\"><span style=\"color: #7fbfbf; text-decoration-color: #7fbfbf\">[03/14/25 17:54:26] </span><span style=\"color: #0069ff; text-decoration-color: #0069ff; font-weight: bold\">INFO    </span> Found credentials in shared credentials file: ~<span style=\"color: #e100e1; text-decoration-color: #e100e1\">/.aws/credentials</span>   <a href=\"file:///Users/yernar_smagulov/miniconda3/envs/sagemaker/lib/python3.10/site-packages/botocore/credentials.py\" target=\"_blank\"><span style=\"color: #7f7f7f; text-decoration-color: #7f7f7f\">credentials.py</span></a><span style=\"color: #7f7f7f; text-decoration-color: #7f7f7f\">:</span><a href=\"file:///Users/yernar_smagulov/miniconda3/envs/sagemaker/lib/python3.10/site-packages/botocore/credentials.py#1352\" target=\"_blank\"><span style=\"color: #7f7f7f; text-decoration-color: #7f7f7f\">1352</span></a>\n",
       "</pre>\n"
      ],
      "text/plain": [
       "\u001b[2;36m[03/14/25 17:54:26]\u001b[0m\u001b[2;36m \u001b[0m\u001b[1;38;2;0;105;255mINFO    \u001b[0m Found credentials in shared credentials file: ~\u001b[38;2;225;0;225m/.aws/\u001b[0m\u001b[38;2;225;0;225mcredentials\u001b[0m   \u001b]8;id=888445;file:///Users/yernar_smagulov/miniconda3/envs/sagemaker/lib/python3.10/site-packages/botocore/credentials.py\u001b\\\u001b[2mcredentials.py\u001b[0m\u001b]8;;\u001b\\\u001b[2m:\u001b[0m\u001b]8;id=231144;file:///Users/yernar_smagulov/miniconda3/envs/sagemaker/lib/python3.10/site-packages/botocore/credentials.py#1352\u001b\\\u001b[2m1352\u001b[0m\u001b]8;;\u001b\\\n"
      ]
     },
     "metadata": {},
     "output_type": "display_data"
    },
    {
     "name": "stdout",
     "output_type": "stream",
     "text": [
      "sagemaker.config INFO - Not applying SDK defaults from location: /Library/Application Support/sagemaker/config.yaml\n",
      "sagemaker.config INFO - Not applying SDK defaults from location: /Users/yernar_smagulov/Library/Application Support/sagemaker/config.yaml\n"
     ]
    }
   ],
   "source": [
    "# cell 22\n",
    "\n",
    "import json\n",
    "import time\n",
    "import boto3\n",
    "import sagemaker\n",
    "import pandas as pd\n",
    "\n",
    "from sagemaker.feature_store.feature_group import FeatureGroup"
   ]
  },
  {
   "cell_type": "markdown",
   "metadata": {},
   "source": [
    "### Create a SageMaker session"
   ]
  },
  {
   "cell_type": "markdown",
   "metadata": {},
   "source": [
    "Boto3 is the AWS Python SDK and we'll be using it exclusively for our API interaction purposes."
   ]
  },
  {
   "cell_type": "markdown",
   "metadata": {},
   "source": [
    "A Boto3 session stores configuration state and allows you to create service clients and resources. It houses all the IAM information you will need to interact with various services. So let's go ahead and create a session"
   ]
  },
  {
   "cell_type": "markdown",
   "metadata": {},
   "source": [
    "The notebook and resources can operate in different regions. Therefore, it is important to specify where these regions are."
   ]
  },
  {
   "cell_type": "code",
   "execution_count": 25,
   "metadata": {},
   "outputs": [
    {
     "name": "stdout",
     "output_type": "stream",
     "text": [
      "['af-south-1', 'ap-east-1', 'ap-northeast-1', 'ap-northeast-2', 'ap-northeast-3', 'ap-south-1', 'ap-south-2', 'ap-southeast-1', 'ap-southeast-2', 'ap-southeast-3', 'ap-southeast-4', 'ap-southeast-5', 'ap-southeast-7', 'ca-central-1', 'ca-west-1', 'eu-central-1', 'eu-central-2', 'eu-north-1', 'eu-south-1', 'eu-south-2', 'eu-west-1', 'eu-west-2', 'eu-west-3', 'il-central-1', 'me-central-1', 'me-south-1', 'mx-central-1', 'sa-east-1', 'us-east-1', 'us-east-2', 'us-west-1', 'us-west-2']\n"
     ]
    }
   ],
   "source": [
    "session = boto3.session.Session()\n",
    "\n",
    "regions = session.get_available_regions(\"ec2\")\n",
    "print(regions)"
   ]
  },
  {
   "cell_type": "code",
   "execution_count": 26,
   "metadata": {},
   "outputs": [
    {
     "name": "stdout",
     "output_type": "stream",
     "text": [
      "Using region eu-central-1\n"
     ]
    },
    {
     "data": {
      "text/html": [
       "<pre style=\"white-space:pre;overflow-x:auto;line-height:normal;font-family:Menlo,'DejaVu Sans Mono',consolas,'Courier New',monospace\"><span style=\"color: #7fbfbf; text-decoration-color: #7fbfbf\">[03/14/25 17:54:39] </span><span style=\"color: #0069ff; text-decoration-color: #0069ff; font-weight: bold\">INFO    </span> Found credentials in shared credentials file: ~<span style=\"color: #e100e1; text-decoration-color: #e100e1\">/.aws/credentials</span>   <a href=\"file:///Users/yernar_smagulov/miniconda3/envs/sagemaker/lib/python3.10/site-packages/botocore/credentials.py\" target=\"_blank\"><span style=\"color: #7f7f7f; text-decoration-color: #7f7f7f\">credentials.py</span></a><span style=\"color: #7f7f7f; text-decoration-color: #7f7f7f\">:</span><a href=\"file:///Users/yernar_smagulov/miniconda3/envs/sagemaker/lib/python3.10/site-packages/botocore/credentials.py#1352\" target=\"_blank\"><span style=\"color: #7f7f7f; text-decoration-color: #7f7f7f\">1352</span></a>\n",
       "</pre>\n"
      ],
      "text/plain": [
       "\u001b[2;36m[03/14/25 17:54:39]\u001b[0m\u001b[2;36m \u001b[0m\u001b[1;38;2;0;105;255mINFO    \u001b[0m Found credentials in shared credentials file: ~\u001b[38;2;225;0;225m/.aws/\u001b[0m\u001b[38;2;225;0;225mcredentials\u001b[0m   \u001b]8;id=417597;file:///Users/yernar_smagulov/miniconda3/envs/sagemaker/lib/python3.10/site-packages/botocore/credentials.py\u001b\\\u001b[2mcredentials.py\u001b[0m\u001b]8;;\u001b\\\u001b[2m:\u001b[0m\u001b]8;id=950431;file:///Users/yernar_smagulov/miniconda3/envs/sagemaker/lib/python3.10/site-packages/botocore/credentials.py#1352\u001b\\\u001b[2m1352\u001b[0m\u001b]8;;\u001b\\\n"
      ]
     },
     "metadata": {},
     "output_type": "display_data"
    },
    {
     "data": {
      "text/html": [
       "<pre style=\"white-space:pre;overflow-x:auto;line-height:normal;font-family:Menlo,'DejaVu Sans Mono',consolas,'Courier New',monospace\"><span style=\"color: #7fbfbf; text-decoration-color: #7fbfbf\">[03/14/25 17:54:40] </span><span style=\"color: #0069ff; text-decoration-color: #0069ff; font-weight: bold\">INFO    </span> Found credentials in shared credentials file: ~<span style=\"color: #e100e1; text-decoration-color: #e100e1\">/.aws/credentials</span>   <a href=\"file:///Users/yernar_smagulov/miniconda3/envs/sagemaker/lib/python3.10/site-packages/botocore/credentials.py\" target=\"_blank\"><span style=\"color: #7f7f7f; text-decoration-color: #7f7f7f\">credentials.py</span></a><span style=\"color: #7f7f7f; text-decoration-color: #7f7f7f\">:</span><a href=\"file:///Users/yernar_smagulov/miniconda3/envs/sagemaker/lib/python3.10/site-packages/botocore/credentials.py#1352\" target=\"_blank\"><span style=\"color: #7f7f7f; text-decoration-color: #7f7f7f\">1352</span></a>\n",
       "</pre>\n"
      ],
      "text/plain": [
       "\u001b[2;36m[03/14/25 17:54:40]\u001b[0m\u001b[2;36m \u001b[0m\u001b[1;38;2;0;105;255mINFO    \u001b[0m Found credentials in shared credentials file: ~\u001b[38;2;225;0;225m/.aws/\u001b[0m\u001b[38;2;225;0;225mcredentials\u001b[0m   \u001b]8;id=497915;file:///Users/yernar_smagulov/miniconda3/envs/sagemaker/lib/python3.10/site-packages/botocore/credentials.py\u001b\\\u001b[2mcredentials.py\u001b[0m\u001b]8;;\u001b\\\u001b[2m:\u001b[0m\u001b]8;id=975829;file:///Users/yernar_smagulov/miniconda3/envs/sagemaker/lib/python3.10/site-packages/botocore/credentials.py#1352\u001b\\\u001b[2m1352\u001b[0m\u001b]8;;\u001b\\\n"
      ]
     },
     "metadata": {},
     "output_type": "display_data"
    }
   ],
   "source": [
    "# cell 23\n",
    "\n",
    "region = \"eu-central-1\"\n",
    "print(f\"Using region {region}\")\n",
    "\n",
    "# Reference that session\n",
    "boto_session = boto3.session.Session()\n",
    "\n",
    "# create a sagemaker client\n",
    "sagemaker_boto_client = boto_session.client(\"sagemaker\")\n",
    "\n",
    "# then link the two\n",
    "sagemaker_session = sagemaker.session.Session(\n",
    "    boto_session=boto_session, sagemaker_client=sagemaker_boto_client\n",
    ")\n",
    "\n",
    "# create an s3 client\n",
    "s3_client = boto3.client(\"s3\", region_name=region)"
   ]
  },
  {
   "cell_type": "markdown",
   "metadata": {},
   "source": [
    "The next thing is to get the Execution Role for SageMaker - this role houses all the permissions SageMaker will require to setup various components. "
   ]
  },
  {
   "cell_type": "code",
   "execution_count": 27,
   "metadata": {},
   "outputs": [
    {
     "data": {
      "text/plain": [
       "<botocore.client.S3 at 0x17799b280>"
      ]
     },
     "execution_count": 27,
     "metadata": {},
     "output_type": "execute_result"
    }
   ],
   "source": [
    "s3_client"
   ]
  },
  {
   "cell_type": "code",
   "execution_count": 29,
   "metadata": {},
   "outputs": [
    {
     "data": {
      "text/html": [
       "<pre style=\"white-space:pre;overflow-x:auto;line-height:normal;font-family:Menlo,'DejaVu Sans Mono',consolas,'Courier New',monospace\"><span style=\"color: #7fbfbf; text-decoration-color: #7fbfbf\">[03/14/25 17:56:17] </span><span style=\"color: #d7af00; text-decoration-color: #d7af00; font-weight: bold\">WARNING </span> Couldn't call <span style=\"color: #008700; text-decoration-color: #008700\">'get_role'</span> to get Role ARN from role name yernar to get  <a href=\"file:///Users/yernar_smagulov/miniconda3/envs/sagemaker/lib/python3.10/site-packages/sagemaker/session.py\" target=\"_blank\"><span style=\"color: #7f7f7f; text-decoration-color: #7f7f7f\">session.py</span></a><span style=\"color: #7f7f7f; text-decoration-color: #7f7f7f\">:</span><a href=\"file:///Users/yernar_smagulov/miniconda3/envs/sagemaker/lib/python3.10/site-packages/sagemaker/session.py#6019\" target=\"_blank\"><span style=\"color: #7f7f7f; text-decoration-color: #7f7f7f\">6019</span></a>\n",
       "<span style=\"color: #7fbfbf; text-decoration-color: #7fbfbf\">                    </span>         Role path.                                                             <span style=\"color: #7f7f7f; text-decoration-color: #7f7f7f\">               </span>\n",
       "</pre>\n"
      ],
      "text/plain": [
       "\u001b[2;36m[03/14/25 17:56:17]\u001b[0m\u001b[2;36m \u001b[0m\u001b[1;38;2;215;175;0mWARNING \u001b[0m Couldn't call \u001b[38;2;0;135;0m'get_role'\u001b[0m to get Role ARN from role name yernar to get  \u001b]8;id=897925;file:///Users/yernar_smagulov/miniconda3/envs/sagemaker/lib/python3.10/site-packages/sagemaker/session.py\u001b\\\u001b[2msession.py\u001b[0m\u001b]8;;\u001b\\\u001b[2m:\u001b[0m\u001b]8;id=544121;file:///Users/yernar_smagulov/miniconda3/envs/sagemaker/lib/python3.10/site-packages/sagemaker/session.py#6019\u001b\\\u001b[2m6019\u001b[0m\u001b]8;;\u001b\\\n",
       "\u001b[2;36m                    \u001b[0m         Role path.                                                             \u001b[2m               \u001b[0m\n"
      ]
     },
     "metadata": {},
     "output_type": "display_data"
    },
    {
     "name": "stdout",
     "output_type": "stream",
     "text": [
      "\n",
      " instantiating sagemaker_role with supplied role name : arn:aws:iam::376129848145:role/fraud-detection-stack-SageMakerExecutionRole-7DtN1ypnuRSE\n"
     ]
    }
   ],
   "source": [
    "# cell 24\n",
    "\n",
    "# comment the line below if you want to use a separate role\n",
    "sagemaker_execution_role_name = \"fraud-detection-stack-SageMakerExecutionRole-7DtN1ypnuRSE\"\n",
    "\n",
    "# Get the default role that was created for this domaim\n",
    "try:\n",
    "    sagemaker_role = sagemaker.get_execution_role()\n",
    "except ValueError:\n",
    "    iam = boto3.client(\"iam\")\n",
    "    sagemaker_role = iam.get_role(RoleName=sagemaker_execution_role_name)[\"Role\"][\"Arn\"]\n",
    "    print(f\"\\n instantiating sagemaker_role with supplied role name : {sagemaker_role}\")\n",
    "\n",
    "# Get temporary access credentials\n",
    "account_id = boto3.client(\"sts\").get_caller_identity()[\"Account\"]"
   ]
  },
  {
   "cell_type": "markdown",
   "metadata": {},
   "source": [
    "Temporary credentials are required so that we're not hardcoding our IAM credentials into our code. That is a huge issue and often leads to compromised accounts and/or resources. So your application should always rely on STS or Temporary Credentials"
   ]
  },
  {
   "cell_type": "markdown",
   "metadata": {},
   "source": [
    "### Data in the bucket"
   ]
  },
  {
   "cell_type": "markdown",
   "metadata": {},
   "source": [
    "#### We're going to use the default bucket that was setup when we created the SageMaker studio domain/user \n",
    "\n",
    "We're also going to store these variables and prefixes into the notebooks to be used later. We can do this by using the `%store` command. "
   ]
  },
  {
   "cell_type": "code",
   "execution_count": 30,
   "metadata": {},
   "outputs": [
    {
     "data": {
      "text/html": [
       "<pre style=\"white-space:pre;overflow-x:auto;line-height:normal;font-family:Menlo,'DejaVu Sans Mono',consolas,'Courier New',monospace\"><span style=\"color: #7fbfbf; text-decoration-color: #7fbfbf\">[03/14/25 17:56:37] </span><span style=\"color: #0069ff; text-decoration-color: #0069ff; font-weight: bold\">INFO    </span> Created S3 bucket: sagemaker-eu-central-<span style=\"color: #008080; text-decoration-color: #008080; font-weight: bold\">1</span>-<span style=\"color: #008080; text-decoration-color: #008080; font-weight: bold\">376129848145</span>                  <a href=\"file:///Users/yernar_smagulov/miniconda3/envs/sagemaker/lib/python3.10/site-packages/sagemaker/session.py\" target=\"_blank\"><span style=\"color: #7f7f7f; text-decoration-color: #7f7f7f\">session.py</span></a><span style=\"color: #7f7f7f; text-decoration-color: #7f7f7f\">:</span><a href=\"file:///Users/yernar_smagulov/miniconda3/envs/sagemaker/lib/python3.10/site-packages/sagemaker/session.py#723\" target=\"_blank\"><span style=\"color: #7f7f7f; text-decoration-color: #7f7f7f\">723</span></a>\n",
       "</pre>\n"
      ],
      "text/plain": [
       "\u001b[2;36m[03/14/25 17:56:37]\u001b[0m\u001b[2;36m \u001b[0m\u001b[1;38;2;0;105;255mINFO    \u001b[0m Created S3 bucket: sagemaker-eu-central-\u001b[1;36m1\u001b[0m-\u001b[1;36m376129848145\u001b[0m                  \u001b]8;id=505782;file:///Users/yernar_smagulov/miniconda3/envs/sagemaker/lib/python3.10/site-packages/sagemaker/session.py\u001b\\\u001b[2msession.py\u001b[0m\u001b]8;;\u001b\\\u001b[2m:\u001b[0m\u001b]8;id=163321;file:///Users/yernar_smagulov/miniconda3/envs/sagemaker/lib/python3.10/site-packages/sagemaker/session.py#723\u001b\\\u001b[2m723\u001b[0m\u001b]8;;\u001b\\\n"
      ]
     },
     "metadata": {},
     "output_type": "display_data"
    },
    {
     "name": "stdout",
     "output_type": "stream",
     "text": [
      "Stored 'bucket' (str)\n",
      "Stored 'prefix' (str)\n"
     ]
    }
   ],
   "source": [
    "# cell 25\n",
    "\n",
    "bucket = sagemaker_session.default_bucket()\n",
    "prefix = \"fraud-detect-demo\"\n",
    "%store bucket\n",
    "%store prefix"
   ]
  },
  {
   "cell_type": "markdown",
   "metadata": {},
   "source": [
    "We're now going to upload the raw dataset to our S3 bucket. The raw dataset is available under the data folder. We're going to upload `claims.csv` and `customers.csv` to our s3 bucket under the prefix `data/raw`. "
   ]
  },
  {
   "cell_type": "code",
   "execution_count": 31,
   "metadata": {},
   "outputs": [],
   "source": [
    "# cell 26\n",
    "\n",
    "# this will upload claims.csv to data/raw in the bucket\n",
    "s3_client.upload_file(Filename=\"./data/claims.csv\", Bucket=bucket, Key=f\"{prefix}/data/raw/claims.csv\")\n",
    "\n",
    "# this will upload customers.csv to data/raw in the bucket\n",
    "s3_client.upload_file(Filename=\"./data/customers.csv\", Bucket=bucket, Key=f\"{prefix}/data/raw/customers.csv\")\n",
    "\n",
    "# this will upload the combined data as well\n",
    "s3_client.upload_file(Filename=\"./data/claims_customer.csv\", Bucket=bucket, Key=f\"{prefix}/data/raw/claims_customer.csv\")"
   ]
  },
  {
   "cell_type": "markdown",
   "metadata": {},
   "source": [
    "Next we're going to create the paths where we want the training data and testing data will go within the S3 bucket. "
   ]
  },
  {
   "cell_type": "code",
   "execution_count": 32,
   "metadata": {},
   "outputs": [],
   "source": [
    "# cell 27\n",
    "\n",
    "# ======> Tons of output_paths\n",
    "training_job_output_path = f\"s3://{bucket}/{prefix}/training_jobs\"\n",
    "train_data_uri = f\"s3://{bucket}/{prefix}/data/train/train.csv\"\n",
    "test_data_uri = f\"s3://{bucket}/{prefix}/data/test/test.csv\"\n",
    "\n",
    "# =======> variables used for parameterizing the notebook run\n",
    "train_instance_count = 1\n",
    "train_instance_type = \"ml.m4.xlarge\"\n",
    "\n",
    "predictor_instance_count = 1\n",
    "predictor_instance_type = \"ml.c5.xlarge\""
   ]
  },
  {
   "cell_type": "markdown",
   "metadata": {},
   "source": [
    "### Datasets and Feature Types\n",
    "----"
   ]
  },
  {
   "cell_type": "markdown",
   "metadata": {},
   "source": [
    "The raw datasets were transformed using Amazon SageMaker Data Wrangler (Hint: check out the bonus labs if you wish to learn more about Data Wrangler). When Data Wrangler encodes a feature as one-hot-encoded feature, it will default to float data types for those resulting features (one feature --> many columns for the one hot encoding). \n",
    "\n",
    "In this case we're manually setting those dtypes from float to int."
   ]
  },
  {
   "cell_type": "code",
   "execution_count": 33,
   "metadata": {},
   "outputs": [],
   "source": [
    "# cell 28\n",
    "\n",
    "claims_dtypes = {\n",
    "    \"policy_id\": int,\n",
    "    \"incident_severity\": int,\n",
    "    \"num_vehicles_involved\": int,\n",
    "    \"num_injuries\": int,\n",
    "    \"num_witnesses\": int,\n",
    "    \"police_report_available\": int,\n",
    "    \"injury_claim\": float,\n",
    "    \"vehicle_claim\": float,\n",
    "    \"total_claim_amount\": float,\n",
    "    \"incident_month\": int,\n",
    "    \"incident_day\": int,\n",
    "    \"incident_dow\": int,\n",
    "    \"incident_hour\": int,\n",
    "    \"fraud\": int,\n",
    "    \"driver_relationship_self\": int,\n",
    "    \"driver_relationship_na\": int,\n",
    "    \"driver_relationship_spouse\": int,\n",
    "    \"driver_relationship_child\": int,\n",
    "    \"driver_relationship_other\": int,\n",
    "    \"incident_type_collision\": int,\n",
    "    \"incident_type_breakin\": int,\n",
    "    \"incident_type_theft\": int,\n",
    "    \"collision_type_front\": int,\n",
    "    \"collision_type_rear\": int,\n",
    "    \"collision_type_side\": int,\n",
    "    \"collision_type_na\": int,\n",
    "    \"authorities_contacted_police\": int,\n",
    "    \"authorities_contacted_none\": int,\n",
    "    \"authorities_contacted_fire\": int,\n",
    "    \"authorities_contacted_ambulance\": int,\n",
    "    \"event_time\": float,\n",
    "}\n",
    "\n",
    "customers_dtypes = {\n",
    "    \"policy_id\": int,\n",
    "    \"customer_age\": int,\n",
    "    \"customer_education\": int,\n",
    "    \"months_as_customer\": int,\n",
    "    \"policy_deductable\": int,\n",
    "    \"policy_annual_premium\": int,\n",
    "    \"policy_liability\": int,\n",
    "    \"auto_year\": int,\n",
    "    \"num_claims_past_year\": int,\n",
    "    \"num_insurers_past_5_years\": int,\n",
    "    \"customer_gender_male\": int,\n",
    "    \"customer_gender_female\": int,\n",
    "    \"policy_state_ca\": int,\n",
    "    \"policy_state_wa\": int,\n",
    "    \"policy_state_az\": int,\n",
    "    \"policy_state_or\": int,\n",
    "    \"policy_state_nv\": int,\n",
    "    \"policy_state_id\": int,\n",
    "    \"event_time\": float,\n",
    "}"
   ]
  },
  {
   "cell_type": "markdown",
   "metadata": {},
   "source": [
    "**Congratulations!**\n",
    "\n",
    "<font color=\"orange\">You have successfully completed Lab 1. Please refer to workshop studio for next steps! </font>"
   ]
  },
  {
   "cell_type": "markdown",
   "metadata": {},
   "source": [
    "## Lab 2: Feature Engineering\n",
    "---"
   ]
  },
  {
   "cell_type": "markdown",
   "metadata": {},
   "source": [
    "Let's use the correct dtypes and create new dataframes for both the datasets. "
   ]
  },
  {
   "cell_type": "markdown",
   "metadata": {},
   "source": [
    "### Create the Feature Store\n",
    "---\n",
    "\n"
   ]
  },
  {
   "cell_type": "code",
   "execution_count": 34,
   "metadata": {},
   "outputs": [
    {
     "name": "stdout",
     "output_type": "stream",
     "text": [
      "Complete\n"
     ]
    }
   ],
   "source": [
    "# cell 29\n",
    "claims_flow_path = \"\"\n",
    "customers_flow_path = \"\"\n",
    "\n",
    "# if the Data Wrangler job was not run, the claims and customers dataframes will be loaded from local copies\n",
    "timestamp = pd.to_datetime(\"now\").timestamp()\n",
    "\n",
    "claims_preprocessed = pd.read_csv(\n",
    "    filepath_or_buffer=\"./data/claims_preprocessed.csv\", dtype=claims_dtypes\n",
    ")\n",
    "\n",
    "# a timestamp column is required by the feature store, so one is added with a current timestamp\n",
    "claims_preprocessed[\"event_time\"] = timestamp\n",
    "\n",
    "customers_preprocessed = pd.read_csv(\n",
    "    filepath_or_buffer=\"./data/customers_preprocessed.csv\", dtype=customers_dtypes\n",
    ")\n",
    "\n",
    "customers_preprocessed[\"event_time\"] = timestamp\n",
    "\n",
    "print(\"Complete\")"
   ]
  },
  {
   "cell_type": "markdown",
   "metadata": {},
   "source": [
    "Following block will create feature store client from boto3 library."
   ]
  },
  {
   "cell_type": "code",
   "execution_count": 35,
   "metadata": {},
   "outputs": [],
   "source": [
    "# cell 30\n",
    "featurestore_runtime = boto_session.client(\n",
    "    service_name=\"sagemaker-featurestore-runtime\", region_name=region\n",
    ")\n",
    "\n",
    "feature_store_session = sagemaker.Session(\n",
    "    boto_session=boto_session,\n",
    "    sagemaker_client=sagemaker_boto_client,\n",
    "    sagemaker_featurestore_runtime_client=featurestore_runtime,\n",
    ")"
   ]
  },
  {
   "cell_type": "markdown",
   "metadata": {},
   "source": [
    "### Configure the feature groups\n",
    "The datatype for each feature is set by passing a dataframe and inferring the proper datatype. Feature data types can also be set via a config variable, but it will have to match the corresponding Python data type in the Pandas dataframe when it's ingested to the Feature Group."
   ]
  },
  {
   "cell_type": "code",
   "execution_count": 36,
   "metadata": {},
   "outputs": [
    {
     "name": "stdout",
     "output_type": "stream",
     "text": [
      "Stored 'claims_fg_name' (str)\n",
      "Stored 'customers_fg_name' (str)\n"
     ]
    }
   ],
   "source": [
    "# cell 31\n",
    "claims_fg_name = f\"{prefix}-claims\"\n",
    "customers_fg_name = f\"{prefix}-customers\"\n",
    "%store claims_fg_name\n",
    "%store customers_fg_name\n",
    "\n",
    "claims_feature_group = FeatureGroup(\n",
    "    name=claims_fg_name, sagemaker_session=feature_store_session\n",
    ")\n",
    "\n",
    "customers_feature_group = FeatureGroup(\n",
    "    name=customers_fg_name, sagemaker_session=feature_store_session\n",
    ")\n",
    "\n",
    "claims_feature_group.load_feature_definitions(data_frame=claims_preprocessed)\n",
    "customers_feature_group.load_feature_definitions(data_frame=customers_preprocessed);"
   ]
  },
  {
   "cell_type": "markdown",
   "metadata": {},
   "source": [
    "### Create the feature groups\n",
    "You must tell the Feature Group which columns in the dataframe correspond to the required record identifier and event time features."
   ]
  },
  {
   "cell_type": "code",
   "execution_count": 37,
   "metadata": {},
   "outputs": [
    {
     "name": "stdout",
     "output_type": "stream",
     "text": [
      "fraud-detect-demo-customers -- fraud-detect-demo-claims are the feature group names in use\n"
     ]
    }
   ],
   "source": [
    "# cell 32\n",
    "print(f\"{customers_fg_name} -- {claims_fg_name} are the feature group names in use\")"
   ]
  },
  {
   "cell_type": "markdown",
   "metadata": {},
   "source": [
    "Now it's time to create feature groups:"
   ]
  },
  {
   "cell_type": "code",
   "execution_count": 38,
   "metadata": {},
   "outputs": [
    {
     "name": "stdout",
     "output_type": "stream",
     "text": [
      "\n",
      " Using s3://sagemaker-eu-central-1-376129848145/fraud-detect-demo\n",
      "Create \"claims\" feature group: SUCCESS\n",
      "Create \"customers\" feature group: SUCCESS\n"
     ]
    }
   ],
   "source": [
    "# cell 33\n",
    "record_identifier_feature_name = \"policy_id\"\n",
    "event_time_feature_name = \"event_time\"\n",
    "\n",
    "try:\n",
    "    print(f\"\\n Using s3://{bucket}/{prefix}\")\n",
    "    claims_feature_group.create(\n",
    "        s3_uri=f\"s3://{bucket}/{prefix}\",\n",
    "        record_identifier_name=record_identifier_feature_name,\n",
    "        event_time_feature_name=event_time_feature_name,\n",
    "        role_arn=sagemaker_role,\n",
    "        enable_online_store=True,\n",
    "    )\n",
    "    print(f'Create \"claims\" feature group: SUCCESS')\n",
    "except Exception as e:\n",
    "    code = e.response.get(\"Error\").get(\"Code\")\n",
    "    if code == \"ResourceInUse\":\n",
    "        print(f\"Using existing feature group: {claims_fg_name}\")\n",
    "    else:\n",
    "        raise (e)\n",
    "\n",
    "try:\n",
    "    customers_feature_group.create(\n",
    "        s3_uri=f\"s3://{bucket}/{prefix}\",\n",
    "        record_identifier_name=record_identifier_feature_name,\n",
    "        event_time_feature_name=event_time_feature_name,\n",
    "        role_arn=sagemaker_role,\n",
    "        enable_online_store=True,\n",
    "    )\n",
    "    print(f'Create \"customers\" feature group: SUCCESS')\n",
    "except Exception as e:\n",
    "    code = e.response.get(\"Error\").get(\"Code\")\n",
    "    if code == \"ResourceInUse\":\n",
    "        print(f\"Using existing feature group: {customers_fg_name}\")\n",
    "    else:\n",
    "        raise (e)"
   ]
  },
  {
   "cell_type": "markdown",
   "metadata": {},
   "source": [
    "#### Wait until feature group creation has fully completed:"
   ]
  },
  {
   "cell_type": "code",
   "execution_count": 39,
   "metadata": {},
   "outputs": [
    {
     "name": "stdout",
     "output_type": "stream",
     "text": [
      "Waiting for Feature Group Creation\n",
      "Waiting for Feature Group Creation\n",
      "Waiting for Feature Group Creation\n",
      "FeatureGroup fraud-detect-demo-claims successfully created.\n",
      "FeatureGroup fraud-detect-demo-customers successfully created.\n"
     ]
    }
   ],
   "source": [
    "# cell 34\n",
    "def wait_for_feature_group_creation_complete(feature_group):\n",
    "    status = feature_group.describe().get(\"FeatureGroupStatus\")\n",
    "    while status == \"Creating\":\n",
    "        print(\"Waiting for Feature Group Creation\")\n",
    "        time.sleep(5)\n",
    "        status = feature_group.describe().get(\"FeatureGroupStatus\")\n",
    "    if status != \"Created\":\n",
    "        raise RuntimeError(f\"Failed to create feature group {feature_group.name}\")\n",
    "    print(f\"FeatureGroup {feature_group.name} successfully created.\")\n",
    "\n",
    "\n",
    "wait_for_feature_group_creation_complete(feature_group=claims_feature_group)\n",
    "wait_for_feature_group_creation_complete(feature_group=customers_feature_group)"
   ]
  },
  {
   "cell_type": "markdown",
   "metadata": {},
   "source": [
    "### Ingest records into the Feature Groups\n",
    "After the Feature Groups have been created, we can put data into each store by using the PutRecord API. This API can handle high TPS and is designed to be called by different streams. The data from all of these Put requests is buffered and written to s3 in chunks. The files will be written to the offline store within a few minutes of ingestion."
   ]
  },
  {
   "cell_type": "code",
   "execution_count": 40,
   "metadata": {},
   "outputs": [],
   "source": [
    "# cell 35\n",
    "if \"claims_table\" in locals():\n",
    "    print(\n",
    "        \"You may have already ingested the data into your Feature Groups. If you'd like to do this again, you can run the ingest methods outside of the 'if/else' statement.\"\n",
    "    )\n",
    "\n",
    "else:\n",
    "    claims_feature_group.ingest(data_frame=claims_preprocessed, max_workers=3, wait=True)\n",
    "\n",
    "    customers_feature_group.ingest(data_frame=customers_preprocessed, max_workers=3, wait=True);"
   ]
  },
  {
   "cell_type": "markdown",
   "metadata": {},
   "source": [
    "### Wait for offline store data to become available\n",
    "\n",
    "After ingesting data into the Feature Store, we're going to wait until it is available offline. Which means that the data will be available on Amazon S3 (this usually takes 5-8 minutes):"
   ]
  },
  {
   "cell_type": "code",
   "execution_count": 41,
   "metadata": {},
   "outputs": [
    {
     "name": "stdout",
     "output_type": "stream",
     "text": [
      "fraud-detect-demo/376129848145/sagemaker/eu-central-1/offline-store/fraud-detect-demo-claims-1741957026/data\n",
      "Waiting for data in offline store...\n",
      "Waiting for data in offline store...\n",
      "\n",
      "Data available.\n"
     ]
    }
   ],
   "source": [
    "# cell 36\n",
    "if \"claims_table\" not in locals():\n",
    "    claims_table = claims_feature_group.describe()[\"OfflineStoreConfig\"][\"DataCatalogConfig\"][\n",
    "        \"TableName\"\n",
    "    ].replace(\"_\", \"-\")\n",
    "if \"customers_table\" not in locals():\n",
    "    customers_table = customers_feature_group.describe()[\"OfflineStoreConfig\"][\"DataCatalogConfig\"][\n",
    "        \"TableName\"\n",
    "    ].replace(\"_\", \"-\")\n",
    "\n",
    "claims_feature_group_s3_prefix = (\n",
    "    f\"{prefix}/{account_id}/sagemaker/{region}/offline-store/{claims_table}/data\"\n",
    ")\n",
    "\n",
    "customers_feature_group_s3_prefix = (\n",
    "    f\"{prefix}/{account_id}/sagemaker/{region}/offline-store/{customers_table}/data\"\n",
    ")\n",
    "print(claims_feature_group_s3_prefix)\n",
    "\n",
    "offline_store_contents = None\n",
    "while offline_store_contents is None:\n",
    "    objects_in_bucket = s3_client.list_objects(\n",
    "        Bucket=bucket, Prefix=customers_feature_group_s3_prefix\n",
    "    )\n",
    "    if \"Contents\" in objects_in_bucket and len(objects_in_bucket[\"Contents\"]) > 1:\n",
    "        offline_store_contents = objects_in_bucket[\"Contents\"]\n",
    "    else:\n",
    "        print(\"Waiting for data in offline store...\")\n",
    "        time.sleep(60)\n",
    "\n",
    "print(\"\\nData available.\")"
   ]
  },
  {
   "cell_type": "code",
   "execution_count": 42,
   "metadata": {},
   "outputs": [
    {
     "data": {
      "text/plain": [
       "({'TableName': 'fraud_detect_demo_claims_1741957026',\n",
       "  'Catalog': 'AwsDataCatalog',\n",
       "  'Database': 'sagemaker_featurestore'},\n",
       " {'TableName': 'fraud_detect_demo_customers_1741957027',\n",
       "  'Catalog': 'AwsDataCatalog',\n",
       "  'Database': 'sagemaker_featurestore'})"
      ]
     },
     "execution_count": 42,
     "metadata": {},
     "output_type": "execute_result"
    }
   ],
   "source": [
    "# cell 37\n",
    "claims_feature_group.describe()[\"OfflineStoreConfig\"][\n",
    "    \"DataCatalogConfig\"\n",
    "], customers_feature_group.describe()[\"OfflineStoreConfig\"][\"DataCatalogConfig\"]"
   ]
  },
  {
   "cell_type": "markdown",
   "metadata": {},
   "source": [
    "### Explore Feature Store inside SageMaker Studio\n",
    "----\n",
    "\n",
    "After your feature groups have been created, it's possible to visualize it inside SageMaker Studio.\n",
    "\n",
    "Navigate to the top-most icon that looks like \"Home\". Click on Data and then Feature Store\n",
    "\n",
    "<img src=\"images/notebooks/studio-feature-store.png\" width=\"100%\" />\n",
    "\n",
    "On that screen, it's possible to see details about feature groups we've just created and also create a new feature group, by clicking on the button \"Create Feature Group\". \n",
    "\n",
    "We're just going to review feature group details. To do this, click in any of the feature groups in the \"Feature group name\" column and navigate throughout tabs to see more information about each feature group:"
   ]
  },
  {
   "cell_type": "markdown",
   "metadata": {},
   "source": [
    "### Create Train and Test Datasets\n",
    "----\n",
    "\n",
    "Once the data is available in the offline store, it will automatically be cataloged and loaded into an Athena table (this is done by default, but can be turned off). In order to build our training and test datasets, you will submit a SQL query to join the the Claims and Customers tables created in Athena."
   ]
  },
  {
   "cell_type": "code",
   "execution_count": 43,
   "metadata": {},
   "outputs": [
    {
     "name": "stdout",
     "output_type": "stream",
     "text": [
      "Stored 'claims_table' (str)\n",
      "Stored 'customers_table' (str)\n",
      "Stored 'database_name' (str)\n"
     ]
    }
   ],
   "source": [
    "# cell 38\n",
    "claims_query = claims_feature_group.athena_query()\n",
    "customers_query = customers_feature_group.athena_query()\n",
    "\n",
    "claims_table = claims_query.table_name\n",
    "customers_table = customers_query.table_name\n",
    "database_name = customers_query.database\n",
    "%store claims_table\n",
    "%store customers_table\n",
    "%store database_name\n",
    "\n",
    "feature_columns = list(set(claims_preprocessed.columns) ^ set(customers_preprocessed.columns))\n",
    "feature_columns_string = \", \".join(f'\"{c}\"' for c in feature_columns)\n",
    "feature_columns_string = f'\"{claims_table}\".policy_id as policy_id, ' + feature_columns_string\n",
    "\n",
    "query_string = f\"\"\"\n",
    "SELECT DISTINCT {feature_columns_string}\n",
    "FROM \"{claims_table}\" LEFT JOIN \"{customers_table}\" \n",
    "ON \"{claims_table}\".policy_id = \"{customers_table}\".policy_id\n",
    "\"\"\""
   ]
  },
  {
   "cell_type": "markdown",
   "metadata": {},
   "source": [
    "Then let's run this query:"
   ]
  },
  {
   "cell_type": "code",
   "execution_count": 44,
   "metadata": {},
   "outputs": [
    {
     "data": {
      "text/html": [
       "<pre style=\"white-space:pre;overflow-x:auto;line-height:normal;font-family:Menlo,'DejaVu Sans Mono',consolas,'Courier New',monospace\"><span style=\"color: #7fbfbf; text-decoration-color: #7fbfbf\">[03/14/25 18:06:06] </span><span style=\"color: #0069ff; text-decoration-color: #0069ff; font-weight: bold\">INFO    </span> Query <span style=\"color: #ffff00; text-decoration-color: #ffff00\">99971e01-be44-44f4-a5ad-c64413f3a87d</span> is being executed.          <a href=\"file:///Users/yernar_smagulov/miniconda3/envs/sagemaker/lib/python3.10/site-packages/sagemaker/session.py\" target=\"_blank\"><span style=\"color: #7f7f7f; text-decoration-color: #7f7f7f\">session.py</span></a><span style=\"color: #7f7f7f; text-decoration-color: #7f7f7f\">:</span><a href=\"file:///Users/yernar_smagulov/miniconda3/envs/sagemaker/lib/python3.10/site-packages/sagemaker/session.py#6663\" target=\"_blank\"><span style=\"color: #7f7f7f; text-decoration-color: #7f7f7f\">6663</span></a>\n",
       "</pre>\n"
      ],
      "text/plain": [
       "\u001b[2;36m[03/14/25 18:06:06]\u001b[0m\u001b[2;36m \u001b[0m\u001b[1;38;2;0;105;255mINFO    \u001b[0m Query \u001b[93m99971e01-be44-44f4-a5ad-c64413f3a87d\u001b[0m is being executed.          \u001b]8;id=207187;file:///Users/yernar_smagulov/miniconda3/envs/sagemaker/lib/python3.10/site-packages/sagemaker/session.py\u001b\\\u001b[2msession.py\u001b[0m\u001b]8;;\u001b\\\u001b[2m:\u001b[0m\u001b]8;id=303644;file:///Users/yernar_smagulov/miniconda3/envs/sagemaker/lib/python3.10/site-packages/sagemaker/session.py#6663\u001b\\\u001b[2m6663\u001b[0m\u001b]8;;\u001b\\\n"
      ]
     },
     "metadata": {},
     "output_type": "display_data"
    },
    {
     "data": {
      "text/html": [
       "<pre style=\"white-space:pre;overflow-x:auto;line-height:normal;font-family:Menlo,'DejaVu Sans Mono',consolas,'Courier New',monospace\"><span style=\"color: #7fbfbf; text-decoration-color: #7fbfbf\">[03/14/25 18:06:11] </span><span style=\"color: #0069ff; text-decoration-color: #0069ff; font-weight: bold\">INFO    </span> Query <span style=\"color: #ffff00; text-decoration-color: #ffff00\">99971e01-be44-44f4-a5ad-c64413f3a87d</span> successfully executed.      <a href=\"file:///Users/yernar_smagulov/miniconda3/envs/sagemaker/lib/python3.10/site-packages/sagemaker/session.py\" target=\"_blank\"><span style=\"color: #7f7f7f; text-decoration-color: #7f7f7f\">session.py</span></a><span style=\"color: #7f7f7f; text-decoration-color: #7f7f7f\">:</span><a href=\"file:///Users/yernar_smagulov/miniconda3/envs/sagemaker/lib/python3.10/site-packages/sagemaker/session.py#6672\" target=\"_blank\"><span style=\"color: #7f7f7f; text-decoration-color: #7f7f7f\">6672</span></a>\n",
       "</pre>\n"
      ],
      "text/plain": [
       "\u001b[2;36m[03/14/25 18:06:11]\u001b[0m\u001b[2;36m \u001b[0m\u001b[1;38;2;0;105;255mINFO    \u001b[0m Query \u001b[93m99971e01-be44-44f4-a5ad-c64413f3a87d\u001b[0m successfully executed.      \u001b]8;id=354716;file:///Users/yernar_smagulov/miniconda3/envs/sagemaker/lib/python3.10/site-packages/sagemaker/session.py\u001b\\\u001b[2msession.py\u001b[0m\u001b]8;;\u001b\\\u001b[2m:\u001b[0m\u001b]8;id=110486;file:///Users/yernar_smagulov/miniconda3/envs/sagemaker/lib/python3.10/site-packages/sagemaker/session.py#6672\u001b\\\u001b[2m6672\u001b[0m\u001b]8;;\u001b\\\n"
      ]
     },
     "metadata": {},
     "output_type": "display_data"
    }
   ],
   "source": [
    "# cell 39\n",
    "claims_query.run(query_string=query_string, output_location=f\"s3://{bucket}/{prefix}/query_results\")\n",
    "claims_query.wait()\n",
    "dataset = claims_query.as_dataframe()"
   ]
  },
  {
   "cell_type": "markdown",
   "metadata": {},
   "source": [
    "And export it to a `.csv` file:"
   ]
  },
  {
   "cell_type": "code",
   "execution_count": 45,
   "metadata": {},
   "outputs": [],
   "source": [
    "# cell 40\n",
    "dataset.to_csv(\"./data/claims_customer.csv\")"
   ]
  },
  {
   "cell_type": "markdown",
   "metadata": {},
   "source": [
    "Column order will be changed (target column should be the first column on dataset) and dataset will be split into training and testing:"
   ]
  },
  {
   "cell_type": "code",
   "execution_count": 46,
   "metadata": {},
   "outputs": [],
   "source": [
    "# cell 41\n",
    "col_order = [\"fraud\"] + list(dataset.drop([\"fraud\", \"policy_id\"], axis=1).columns)\n",
    "\n",
    "train = dataset.sample(frac=0.80, random_state=0)[col_order]\n",
    "test = dataset.drop(train.index)[col_order]"
   ]
  },
  {
   "cell_type": "code",
   "execution_count": 47,
   "metadata": {},
   "outputs": [
    {
     "data": {
      "text/html": [
       "<div>\n",
       "<style scoped>\n",
       "    .dataframe tbody tr th:only-of-type {\n",
       "        vertical-align: middle;\n",
       "    }\n",
       "\n",
       "    .dataframe tbody tr th {\n",
       "        vertical-align: top;\n",
       "    }\n",
       "\n",
       "    .dataframe thead th {\n",
       "        text-align: right;\n",
       "    }\n",
       "</style>\n",
       "<table border=\"1\" class=\"dataframe\">\n",
       "  <thead>\n",
       "    <tr style=\"text-align: right;\">\n",
       "      <th></th>\n",
       "      <th>fraud</th>\n",
       "      <th>auto_year</th>\n",
       "      <th>num_insurers_past_5_years</th>\n",
       "      <th>policy_state_or</th>\n",
       "      <th>collision_type_side</th>\n",
       "      <th>num_witnesses</th>\n",
       "      <th>collision_type_na</th>\n",
       "      <th>total_claim_amount</th>\n",
       "      <th>driver_relationship_self</th>\n",
       "      <th>injury_claim</th>\n",
       "      <th>...</th>\n",
       "      <th>customer_gender_female</th>\n",
       "      <th>incident_hour</th>\n",
       "      <th>authorities_contacted_police</th>\n",
       "      <th>authorities_contacted_none</th>\n",
       "      <th>collision_type_rear</th>\n",
       "      <th>authorities_contacted_fire</th>\n",
       "      <th>policy_state_nv</th>\n",
       "      <th>customer_age</th>\n",
       "      <th>customer_education</th>\n",
       "      <th>driver_relationship_other</th>\n",
       "    </tr>\n",
       "  </thead>\n",
       "  <tbody>\n",
       "    <tr>\n",
       "      <th>0</th>\n",
       "      <td>0</td>\n",
       "      <td>2014</td>\n",
       "      <td>2</td>\n",
       "      <td>0</td>\n",
       "      <td>0</td>\n",
       "      <td>2</td>\n",
       "      <td>0</td>\n",
       "      <td>7500.0</td>\n",
       "      <td>1</td>\n",
       "      <td>0.0</td>\n",
       "      <td>...</td>\n",
       "      <td>1</td>\n",
       "      <td>9</td>\n",
       "      <td>0</td>\n",
       "      <td>1</td>\n",
       "      <td>1</td>\n",
       "      <td>0</td>\n",
       "      <td>0</td>\n",
       "      <td>31</td>\n",
       "      <td>4</td>\n",
       "      <td>0</td>\n",
       "    </tr>\n",
       "    <tr>\n",
       "      <th>7</th>\n",
       "      <td>0</td>\n",
       "      <td>2018</td>\n",
       "      <td>1</td>\n",
       "      <td>0</td>\n",
       "      <td>0</td>\n",
       "      <td>0</td>\n",
       "      <td>0</td>\n",
       "      <td>14000.0</td>\n",
       "      <td>1</td>\n",
       "      <td>0.0</td>\n",
       "      <td>...</td>\n",
       "      <td>0</td>\n",
       "      <td>8</td>\n",
       "      <td>0</td>\n",
       "      <td>1</td>\n",
       "      <td>0</td>\n",
       "      <td>0</td>\n",
       "      <td>0</td>\n",
       "      <td>45</td>\n",
       "      <td>3</td>\n",
       "      <td>0</td>\n",
       "    </tr>\n",
       "    <tr>\n",
       "      <th>21</th>\n",
       "      <td>0</td>\n",
       "      <td>2020</td>\n",
       "      <td>1</td>\n",
       "      <td>0</td>\n",
       "      <td>0</td>\n",
       "      <td>0</td>\n",
       "      <td>0</td>\n",
       "      <td>11500.0</td>\n",
       "      <td>1</td>\n",
       "      <td>0.0</td>\n",
       "      <td>...</td>\n",
       "      <td>0</td>\n",
       "      <td>14</td>\n",
       "      <td>1</td>\n",
       "      <td>0</td>\n",
       "      <td>0</td>\n",
       "      <td>0</td>\n",
       "      <td>0</td>\n",
       "      <td>73</td>\n",
       "      <td>3</td>\n",
       "      <td>0</td>\n",
       "    </tr>\n",
       "    <tr>\n",
       "      <th>24</th>\n",
       "      <td>0</td>\n",
       "      <td>2016</td>\n",
       "      <td>2</td>\n",
       "      <td>0</td>\n",
       "      <td>0</td>\n",
       "      <td>1</td>\n",
       "      <td>0</td>\n",
       "      <td>12500.0</td>\n",
       "      <td>0</td>\n",
       "      <td>0.0</td>\n",
       "      <td>...</td>\n",
       "      <td>0</td>\n",
       "      <td>18</td>\n",
       "      <td>0</td>\n",
       "      <td>1</td>\n",
       "      <td>1</td>\n",
       "      <td>0</td>\n",
       "      <td>0</td>\n",
       "      <td>24</td>\n",
       "      <td>2</td>\n",
       "      <td>0</td>\n",
       "    </tr>\n",
       "    <tr>\n",
       "      <th>25</th>\n",
       "      <td>0</td>\n",
       "      <td>2018</td>\n",
       "      <td>2</td>\n",
       "      <td>0</td>\n",
       "      <td>0</td>\n",
       "      <td>0</td>\n",
       "      <td>0</td>\n",
       "      <td>35000.0</td>\n",
       "      <td>1</td>\n",
       "      <td>15500.0</td>\n",
       "      <td>...</td>\n",
       "      <td>0</td>\n",
       "      <td>8</td>\n",
       "      <td>1</td>\n",
       "      <td>0</td>\n",
       "      <td>1</td>\n",
       "      <td>0</td>\n",
       "      <td>0</td>\n",
       "      <td>20</td>\n",
       "      <td>1</td>\n",
       "      <td>0</td>\n",
       "    </tr>\n",
       "  </tbody>\n",
       "</table>\n",
       "<p>5 rows × 46 columns</p>\n",
       "</div>"
      ],
      "text/plain": [
       "    fraud  auto_year  num_insurers_past_5_years  policy_state_or  \\\n",
       "0       0       2014                          2                0   \n",
       "7       0       2018                          1                0   \n",
       "21      0       2020                          1                0   \n",
       "24      0       2016                          2                0   \n",
       "25      0       2018                          2                0   \n",
       "\n",
       "    collision_type_side  num_witnesses  collision_type_na  total_claim_amount  \\\n",
       "0                     0              2                  0              7500.0   \n",
       "7                     0              0                  0             14000.0   \n",
       "21                    0              0                  0             11500.0   \n",
       "24                    0              1                  0             12500.0   \n",
       "25                    0              0                  0             35000.0   \n",
       "\n",
       "    driver_relationship_self  injury_claim  ...  customer_gender_female  \\\n",
       "0                          1           0.0  ...                       1   \n",
       "7                          1           0.0  ...                       0   \n",
       "21                         1           0.0  ...                       0   \n",
       "24                         0           0.0  ...                       0   \n",
       "25                         1       15500.0  ...                       0   \n",
       "\n",
       "    incident_hour  authorities_contacted_police  authorities_contacted_none  \\\n",
       "0               9                             0                           1   \n",
       "7               8                             0                           1   \n",
       "21             14                             1                           0   \n",
       "24             18                             0                           1   \n",
       "25              8                             1                           0   \n",
       "\n",
       "    collision_type_rear  authorities_contacted_fire  policy_state_nv  \\\n",
       "0                     1                           0                0   \n",
       "7                     0                           0                0   \n",
       "21                    0                           0                0   \n",
       "24                    1                           0                0   \n",
       "25                    1                           0                0   \n",
       "\n",
       "    customer_age  customer_education  driver_relationship_other  \n",
       "0             31                   4                          0  \n",
       "7             45                   3                          0  \n",
       "21            73                   3                          0  \n",
       "24            24                   2                          0  \n",
       "25            20                   1                          0  \n",
       "\n",
       "[5 rows x 46 columns]"
      ]
     },
     "execution_count": 47,
     "metadata": {},
     "output_type": "execute_result"
    }
   ],
   "source": [
    "# cell 42\n",
    "test.head(5)"
   ]
  },
  {
   "cell_type": "markdown",
   "metadata": {},
   "source": [
    "### Write training and test data to S3\n",
    "---\n",
    "\n",
    "Then those prepared features will be exported to `.csv` files: "
   ]
  },
  {
   "cell_type": "code",
   "execution_count": 48,
   "metadata": {},
   "outputs": [],
   "source": [
    "# cell 43\n",
    "train.to_csv(\"./data/train.csv\", index=False)\n",
    "test.to_csv(\"./data/test.csv\", index=False)\n",
    "dataset.to_csv(\"./data/dataset.csv\", index=True)"
   ]
  },
  {
   "cell_type": "markdown",
   "metadata": {},
   "source": [
    "And uploaded to S3:"
   ]
  },
  {
   "cell_type": "code",
   "execution_count": 49,
   "metadata": {},
   "outputs": [],
   "source": [
    "# cell 44\n",
    "train_data_uri = f\"s3://{bucket}/{prefix}/data/train/train.csv\"\n",
    "test_data_uri = f\"s3://{bucket}/{prefix}/data/test/test.csv\"\n",
    "\n",
    "s3_client.upload_file(\n",
    "    Filename=\"./data/train.csv\", Bucket=bucket, Key=f\"{prefix}/data/train/train.csv\"\n",
    ")\n",
    "s3_client.upload_file(\n",
    "    Filename=\"./data/test.csv\", Bucket=bucket, Key=f\"{prefix}/data/test/test.csv\"\n",
    ")"
   ]
  },
  {
   "cell_type": "markdown",
   "metadata": {},
   "source": [
    "**Congratulations!**\n",
    "\n",
    "You have successfully completed Lab 1 & 2."
   ]
  },
  {
   "cell_type": "markdown",
   "metadata": {},
   "source": []
  },
  {
   "cell_type": "markdown",
   "metadata": {},
   "source": []
  }
 ],
 "metadata": {
  "instance_type": "ml.t3.medium",
  "kernelspec": {
   "display_name": "sagemaker",
   "language": "python",
   "name": "python3"
  },
  "language_info": {
   "codemirror_mode": {
    "name": "ipython",
    "version": 3
   },
   "file_extension": ".py",
   "mimetype": "text/x-python",
   "name": "python",
   "nbconvert_exporter": "python",
   "pygments_lexer": "ipython3",
   "version": "3.10.16"
  }
 },
 "nbformat": 4,
 "nbformat_minor": 4
}
